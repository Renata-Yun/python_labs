{
 "cells": [
  {
   "cell_type": "markdown",
   "metadata": {},
   "source": [
    "# Курсовая работа по дисциплине \"Структуры и алгоритмы обработки данных\""
   ]
  },
  {
   "cell_type": "markdown",
   "metadata": {},
   "source": [
    "## Работу выполнила Атаулина Рената студентка группы БВТ1901 "
   ]
  },
  {
   "cell_type": "markdown",
   "metadata": {},
   "source": [
    "### Задание №1\n",
    "Даны две строки: s1 и s2 с одинаковым размером, проверьте, может ли некоторая перестановка строки s1 “победить” некоторую перестановку строки s2 или наоборот. Строка x может “победить” строку y (обе имеют размер n), если x[i]> = y[i] (в алфавитном порядке) для всех i от 0 до n-1."
   ]
  },
  {
   "cell_type": "code",
   "execution_count": 7,
   "metadata": {},
   "outputs": [
    {
     "name": "stdout",
     "output_type": "stream",
     "text": [
      "Введите s1: abc\n",
      "Введите s2: xya\n",
      "true\n"
     ]
    }
   ],
   "source": [
    "def permutation(lst):\n",
    "    res = []\n",
    "    _permutation(lst, 0, res)\n",
    "    return res\n",
    "\n",
    "def _permutation(lst, i, res):\n",
    "    if i == len(lst) - 1:\n",
    "        elem = ''\n",
    "        for a in lst:\n",
    "            elem += str(a)\n",
    "        if elem not in res:\n",
    "            res.append(elem)\n",
    "    else:\n",
    "        for j in range(i, len(lst)):\n",
    "            swap(lst, i, j)\n",
    "            _permutation(lst, i + 1, res)\n",
    "            swap(lst, i, j)\n",
    "\n",
    "def swap(lst, i, j):\n",
    "    k = lst[i]\n",
    "    lst[i] = lst[j]\n",
    "    lst[j] = k\n",
    "\n",
    "s1 = input(\"Введите s1: \")\n",
    "s2 = input(\"Введите s2: \")\n",
    "if len(s1) == len(s2):\n",
    "    list_s1 = list(s1) \n",
    "    list_s2 = list(s2)\n",
    "    perms_s1 = permutation(list_s1) # перестановка\n",
    "    perms_s2 = permutation(list_s2)\n",
    "    res_s1 = [] # ресурс\n",
    "    res_s2 = []\n",
    "    for i in perms_s1:\n",
    "        for j in perms_s2:\n",
    "            c = True #check\n",
    "            for k in range(len(s1)):\n",
    "                if ord(i[k]) < ord(j[k]): # возвращает число из таблицы Unicode\n",
    "                    c = False\n",
    "            if c and i not in res_s1:\n",
    "                res_s1.append(i)\n",
    "    for i in perms_s2:\n",
    "        for j in perms_s1:\n",
    "            c = True\n",
    "            for k in range(len(s1)):\n",
    "                if ord(i[k]) < ord(j[k]):\n",
    "                    c = False\n",
    "            if c and i not in res_s2:\n",
    "                res_s2.append(i)\n",
    "    if len(res_s1) > 0 or len(res_s2) > 0:\n",
    "        print(\"true\")\n",
    "    else:\n",
    "        print(\"false\")\n",
    "else:\n",
    "    print(\"Длины строк не совпадают\")"
   ]
  },
  {
   "cell_type": "markdown",
   "metadata": {},
   "source": [
    "### Задание №2\n",
    "Дана строка s, вернуть самую длинную полиндромную подстроку в s."
   ]
  },
  {
   "cell_type": "code",
   "execution_count": 8,
   "metadata": {},
   "outputs": [
    {
     "name": "stdout",
     "output_type": "stream",
     "text": [
      "Введите строку: babad\n",
      "['bab', 'aba']\n"
     ]
    }
   ],
   "source": [
    "def reversed(str):  # \"переворачивание\" строки\n",
    "    return str[::-1]\n",
    "\n",
    "string = input(\"Введите строку: \")\n",
    "res = ['']\n",
    "for i in range(len(string)-2):\n",
    "    for j in range(i+2, len(string)+1):\n",
    "        if string[i:j] == reversed(string[i:j]):\n",
    "            if len(string[i:j]) > len(res[0]):\n",
    "                res = [string[i:j]]\n",
    "            elif len(string[i:j]) == len(res[0]):\n",
    "                res.append(string[i:j])\n",
    "if res[0] == '':\n",
    "    print(\"Полиндрома нет\")\n",
    "else:\n",
    "    print(res)"
   ]
  },
  {
   "cell_type": "markdown",
   "metadata": {},
   "source": [
    "### Задание №3\n",
    "Вернуть количество отдельных непустых подстрок текста, которые могут быть записаны как конкатенация некоторой строки с самой собой (т.е. она может быть записана, как a + a, где a - некоторая строка)."
   ]
  },
  {
   "cell_type": "code",
   "execution_count": 9,
   "metadata": {},
   "outputs": [
    {
     "name": "stdout",
     "output_type": "stream",
     "text": [
      "abcabcabc\n",
      "['abcabc', 'bcabca', 'cabcab']\n"
     ]
    }
   ],
   "source": [
    "string = input()\n",
    "res = ['']\n",
    "for i in range(len(string)-2):\n",
    "    for j in range(i+2, len(string)+1):\n",
    "        if (j - i) % 2 == 0:\n",
    "            center = (i + j) // 2\n",
    "            if string[i:center] == string[center:j] and string[i:j] not in res:\n",
    "                if len(string[i:j]) > len(res[0]):\n",
    "                    res = [string[i:j]]\n",
    "                elif len(string[i:j]) == len(res[0]):\n",
    "                    res.append(string[i:j])\n",
    "if res[0] == '':\n",
    "    print(\"Совпадений нет\")\n",
    "else:\n",
    "    print(res)"
   ]
  },
  {
   "cell_type": "markdown",
   "metadata": {},
   "source": [
    "### Задание №4: \"Треугольник с максимальным периметром\"\n",
    "Массив A состоит из целых положительных чисел длин отрезков. Составьте из трех отрезков такой треугольник, чтобы его периметр был максимально возможным. Если невозможно составить треугольник с положительной площадью функция возвращает 0."
   ]
  },
  {
   "cell_type": "code",
   "execution_count": 10,
   "metadata": {},
   "outputs": [
    {
     "name": "stdout",
     "output_type": "stream",
     "text": [
      "Введите длины отрезков: 3 6 2 3\n",
      "8\n"
     ]
    }
   ],
   "source": [
    "input_a = input(\"Введите длины отрезков: \")\n",
    "try:\n",
    "    a = input_a.split()  # сделан разделенный список длин\n",
    "    for i in range(len(a)):\n",
    "        a[i] = int(a[i]) \n",
    "    a.sort(reverse = True)\n",
    "    max_length = 0  # finding a max triangle\n",
    "    for i in range(len(a)):\n",
    "        for j in range(i + 1, len(a)):\n",
    "            for k in range(j + 1, len(a)):\n",
    "                if a[i] < a[j] + a[k]:\n",
    "                    max_length = max(max_length, a[i] + a[j] + a[k])\n",
    "    print(max_length)\n",
    "except ValueError:\n",
    "    print(\"Введите корректные данные\")"
   ]
  },
  {
   "cell_type": "markdown",
   "metadata": {},
   "source": [
    "### Задание №5: \"Максимальное число\"\n",
    "Дан массив неотрицательных целых чисел nums. Расположите их в таком порядке, чтобы вместе они образовали максимально возможное число."
   ]
  },
  {
   "cell_type": "code",
   "execution_count": 11,
   "metadata": {},
   "outputs": [
    {
     "name": "stdout",
     "output_type": "stream",
     "text": [
      "Введите числа: 9 5 34 30 3\n",
      "9534330\n"
     ]
    }
   ],
   "source": [
    "input_b = input(\"Введите числа: \")\n",
    "def compare(got, cur):\n",
    "    for i in range(min(len(cur), len(got))):\n",
    "        if ord(cur[i]) > ord(got[i]):\n",
    "            return cur\n",
    "        elif ord(cur[i]) < ord(got[i]):\n",
    "            return got\n",
    "        else:\n",
    "            if i == min(len(cur), len(got)) - 1:\n",
    "                if len(cur) == len(got):\n",
    "                    return cur\n",
    "                if len(got) > len(cur):\n",
    "                    longer = got\n",
    "                    shorter = cur\n",
    "                else:\n",
    "                    longer = cur\n",
    "                    shorter = got\n",
    "                if ord(longer[i + 1]) <= ord(shorter[0]):\n",
    "                    return shorter\n",
    "                else:\n",
    "                    return longer\n",
    "\n",
    "\n",
    "try:\n",
    "    b = input_b.split()\n",
    "    res = ''\n",
    "    while len(b) > 0:\n",
    "        c = '0'\n",
    "        for i in b:\n",
    "            c = compare(i, c)\n",
    "        res += c\n",
    "        b.remove(c)\n",
    "    if len(res) > 1 and res[0] == '0':\n",
    "        print(\"Такого числа не существует\")\n",
    "    else:\n",
    "        print(res)\n",
    "except ValueError:\n",
    "    print(\"Введите корректные данные\")"
   ]
  },
  {
   "cell_type": "markdown",
   "metadata": {},
   "source": [
    "### Задание №6: \"Сортировка диагоналей в матрице\"\n",
    "Дана матрица mat размером m * n, значения целочисленные. Напишите функцию, сортирующую каждую диагональ матрицы по возрастанию и возвращающую получившуюся матрицу."
   ]
  },
  {
   "cell_type": "code",
   "execution_count": 12,
   "metadata": {},
   "outputs": [],
   "source": [
    "mat = [[11, 25, 66, 1, 69, 7], [23, 55, 17, 45, 15, 52], [75, 31, 36, 44, 58, 8], [22, 27, 33, 25, 68, 4], [84, 28, 14, 11, 5, 50]]"
   ]
  },
  {
   "cell_type": "code",
   "execution_count": 13,
   "metadata": {},
   "outputs": [
    {
     "name": "stdout",
     "output_type": "stream",
     "text": [
      "[5, 17, 4, 1, 52, 7]\n",
      "[11, 11, 25, 45, 8, 69]\n",
      "[14, 23, 25, 44, 58, 15]\n",
      "[22, 27, 31, 36, 50, 66]\n",
      "[84, 28, 75, 33, 55, 68]\n"
     ]
    }
   ],
   "source": [
    "check = True\n",
    "for i in range(len(mat) - 1):\n",
    "    if len(mat[i]) != len(mat[i + 1]):\n",
    "        check = False\n",
    "        break\n",
    "if check:\n",
    "    for i in range(len(mat)):\n",
    "        array = []\n",
    "        for j in range(len(mat)):\n",
    "            if i + j < len(mat):\n",
    "                array.append(mat[i + j][0 + j])\n",
    "        array.sort()\n",
    "        for j in range(len(mat)):\n",
    "            if i + j < len(mat):\n",
    "                mat[i + j][0 + j] = array[j]\n",
    "    for i in range(1, len(mat[0])):\n",
    "        array = []\n",
    "        for j in range(len(mat[0])):\n",
    "            if i + j < len(mat[0]):\n",
    "                array.append(mat[0 + j][i + j])\n",
    "        array.sort()\n",
    "        for j in range(len(mat[0])):\n",
    "            if i + j < len(mat[0]):\n",
    "                mat[0 + j][i + j] = array[j]\n",
    "\n",
    "for i in range(len(mat)):\n",
    "    print(mat[i])"
   ]
  },
  {
   "cell_type": "markdown",
   "metadata": {},
   "source": [
    "### Задание №7\n",
    "Дан массив отрезков intervals, в котором intervals[i] = [start_i, end_i], некоторые\n",
    "отрезки могут пересекаться. Напишите функцию, которая объединяет все пересекающиеся отрезки в один и возвращает новый массив непересекающихся отрезков.\n"
   ]
  },
  {
   "cell_type": "code",
   "execution_count": 16,
   "metadata": {},
   "outputs": [
    {
     "name": "stdout",
     "output_type": "stream",
     "text": [
      "[[1, 7], [8, 11], [20, 28]]\n",
      "3\n"
     ]
    }
   ],
   "source": [
    "intervals = [[1,4],[3,7],[8,11],[20,28]]\n",
    "def unity(p):\n",
    "    for i in range(len(p)-1):\n",
    "        for j in range(i+1, len(p)):\n",
    "            if p[j][0] < p[i][0]:\n",
    "                p[j],p[i] = p[i],p[j] \n",
    "\n",
    "    for i in range(len(p)-2):\n",
    "        if p[i] == p[i+1]:\n",
    "            p.pop(i+1)\n",
    "\n",
    "    while True:\n",
    "        NotChanged = 0\n",
    "        if len(p) == 1:\n",
    "            NotChanged = 1\n",
    "        for i in range(len(p)-1):\n",
    "            if p[i][1] >= p[i+1][0]:\n",
    "                p[i+1][0] = p[i][0]\n",
    "                p[i+1][1] = p[i+1][1]\n",
    "                p.pop(i) #удаление\n",
    "                break\n",
    "            NotChanged = 1\n",
    "        if NotChanged:\n",
    "            break\n",
    "    return p\n",
    "print(unity(intervals))\n",
    "print(len(unity(intervals)))"
   ]
  },
  {
   "cell_type": "markdown",
   "metadata": {},
   "source": [
    "### Задание №8\n",
    "На столе стоят 3n стопок монет. Вы и ваши друзья Алиса и Боб забираете стопки монет по следующему алгоритму:\n",
    "1. Вы выбираете 3 стопки монет из оставшихся на столе.\n",
    "2. Алиса забирает себе стопку с максимальным количеством монет.\n",
    "3. Вы забираете одну из двух оставшихся стопок.\n",
    "4. Боб забирает последнюю стопку.\n",
    "5. Если еще остались стопки, то действия повторяются с первого шага.\n",
    "Дан массив целых положительных чисел piles. Напишите функцию, возвращающую максимальное число монет, которое вы можете получит"
   ]
  },
  {
   "cell_type": "code",
   "execution_count": 13,
   "metadata": {},
   "outputs": [
    {
     "name": "stdout",
     "output_type": "stream",
     "text": [
      "20\n"
     ]
    }
   ],
   "source": [
    "piles =  [6,19,4,10,7,1,5,2,3]\n",
    "\n",
    "def money(mas):\n",
    "    if len(mas) % 3 != 0:\n",
    "        return 'false'\n",
    "    mas.sort()\n",
    "    n = len(mas) - 2\n",
    "    sum = 0\n",
    "    for i in range(int(len(mas)/3)):\n",
    "        sum += mas[n]\n",
    "        n -= 2\n",
    "    return sum\n",
    "\n",
    "print(money(piles))    "
   ]
  },
  {
   "cell_type": "markdown",
   "metadata": {},
   "source": [
    "### Задание №9\n",
    "Дан массив points, где points[i] = [x_start, x_end]. Напишите функцию, возвращающую минимальное количество стрел, которые нужно выпустить, чтобы уничтожить все шарики."
   ]
  },
  {
   "cell_type": "code",
   "execution_count": 15,
   "metadata": {},
   "outputs": [
    {
     "name": "stdout",
     "output_type": "stream",
     "text": [
      "[[2, 4], [9, 11]]\n",
      "2\n"
     ]
    }
   ],
   "source": [
    "points = [[8,11],[2,6],[1,4],[9,17]]\n",
    "def Balloons(p):\n",
    "    for i in range(len(p)-1):\n",
    "        for j in range(i+1, len(p)):\n",
    "            if p[j][0] < p[i][0]:\n",
    "                p[j],p[i] = p[i],p[j] \n",
    "   # print(p)\n",
    "    for i in range(len(p)-2):\n",
    "        if p[i] == p[i+1]:\n",
    "            p.pop(i+1)\n",
    "   # print(p)\n",
    "    while True:\n",
    "        NotChanged = 0\n",
    "        if len(p) == 1:\n",
    "            NotChanged = 1\n",
    "        for i in range(len(p)-1):\n",
    "            if p[i][1] >= p[i+1][0]:\n",
    "                p[i+1][0] = p[i+1][0]\n",
    "                p[i+1][1] = p[i][1]\n",
    "                p.pop(i) #удаление\n",
    "                break\n",
    "            NotChanged = 1\n",
    "        if NotChanged:\n",
    "            break\n",
    "    return p\n",
    "print(Balloons(points))\n",
    "print(len(Balloons(points)))"
   ]
  },
  {
   "cell_type": "markdown",
   "metadata": {},
   "source": [
    "### Вывод\n",
    "Реализовала различные алгоритмы, улучшила навыки написания алгоритмов."
   ]
  }
 ],
 "metadata": {
  "kernelspec": {
   "display_name": "Python 3",
   "language": "python",
   "name": "python3"
  },
  "language_info": {
   "codemirror_mode": {
    "name": "ipython",
    "version": 3
   },
   "file_extension": ".py",
   "mimetype": "text/x-python",
   "name": "python",
   "nbconvert_exporter": "python",
   "pygments_lexer": "ipython3",
   "version": "3.8.5"
  }
 },
 "nbformat": 4,
 "nbformat_minor": 4
}
