{
 "cells": [
  {
   "cell_type": "markdown",
   "metadata": {},
   "source": [
    "# Курсовая работа по дисциплине \"Структуры и алгоритмы обработки данных\""
   ]
  },
  {
   "cell_type": "markdown",
   "metadata": {},
   "source": [
    "## Работу выполнила Атаулина Рената студентка группы БВТ1901 "
   ]
  },
  {
   "cell_type": "markdown",
   "metadata": {},
   "source": [
    "### Задание №1\n",
    "Даны две строки: s1 и s2 с одинаковым размером, проверьте, может ли некоторая перестановка строки s1 “победить” некоторую перестановку строки s2 или наоборот. Строка x может “победить” строку y (обе имеют размер n), если x[i]> = y[i] (в алфавитном порядке) для всех i от 0 до n-1."
   ]
  },
  {
   "cell_type": "code",
   "execution_count": 1,
   "metadata": {},
   "outputs": [
    {
     "name": "stdout",
     "output_type": "stream",
     "text": [
      "abc\n",
      "xya\n",
      "true\n"
     ]
    }
   ],
   "source": [
    "def permutation(pa):\n",
    "    res = []\n",
    "    _permutation(pa, 0, res)\n",
    "    return res\n",
    "\n",
    "\n",
    "def _permutation(pa, i, res):\n",
    "    if i == len(pa) - 1:\n",
    "        elem = ''\n",
    "        for a in pa:\n",
    "            elem += str(a)\n",
    "        if elem not in res:\n",
    "            res.append(elem)\n",
    "    else:\n",
    "        for j in range(i, len(pa)):\n",
    "            swap(pa, i, j)\n",
    "            _permutation(pa, i + 1, res)\n",
    "            swap(pa, i, j)\n",
    "\n",
    "\n",
    "def swap(pa, i, j):\n",
    "    k = pa[i]\n",
    "    pa[i] = pa[j]\n",
    "    pa[j] = k\n",
    "\n",
    "\n",
    "s1 = input()\n",
    "s2 = input()\n",
    "if len(s1) == len(s2):\n",
    "    list_s1 = list(s1); list_s2 = list(s2)\n",
    "    perms_s1 = permutation(list_s1)\n",
    "    perms_s2 = permutation(list_s2)\n",
    "    res_s1 = []; res_s2 = []\n",
    "    for i in perms_s1:\n",
    "        for j in perms_s2:\n",
    "            c = True\n",
    "            for k in range(len(s1)):\n",
    "                if ord(i[k]) < ord(j[k]):\n",
    "                    c = False\n",
    "            if c and i not in res_s1:\n",
    "                res_s1.append(i)\n",
    "    for i in perms_s2:\n",
    "        for j in perms_s1:\n",
    "            c = True\n",
    "            for k in range(len(s1)):\n",
    "                if ord(i[k]) < ord(j[k]):\n",
    "                    c = False\n",
    "            if c and i not in res_s2:\n",
    "                res_s2.append(i)\n",
    "    print(\"true\") if len(res_s1) > 0 or len(res_s2) > 0 else print(\"false\")\n",
    "else:\n",
    "    print(\"The length of the strings doesn't match!\")"
   ]
  },
  {
   "cell_type": "markdown",
   "metadata": {},
   "source": [
    "### Задание №2\n",
    "Дана строка s, вернуть самую длинную полиндромную подстроку в s."
   ]
  },
  {
   "cell_type": "code",
   "execution_count": 2,
   "metadata": {},
   "outputs": [
    {
     "name": "stdout",
     "output_type": "stream",
     "text": [
      "babad\n",
      "['bab', 'aba']\n"
     ]
    }
   ],
   "source": [
    "def reversed(str):  # additional function for line reversal\n",
    "    return str[::-1]\n",
    "\n",
    "string = input()\n",
    "res = ['']\n",
    "for i in range(len(string)-2):\n",
    "    for j in range(i+2, len(string)+1):\n",
    "        if string[i:j] == reversed(string[i:j]):\n",
    "            if len(string[i:j]) > len(res[0]):\n",
    "                res = [string[i:j]]\n",
    "            elif len(string[i:j]) == len(res[0]):\n",
    "                res.append(string[i:j])\n",
    "print(\"There are no palindromes!\") if res[0] == '' else print(res)"
   ]
  },
  {
   "cell_type": "markdown",
   "metadata": {},
   "source": [
    "### Задание №3\n",
    "Вернуть количество отдельных непустых подстрок текста, которые могут быть записаны как конкатенация некоторой строки с самой собой (т.е. она может быть записана, как a + a, где a - некоторая строка)."
   ]
  },
  {
   "cell_type": "code",
   "execution_count": 3,
   "metadata": {},
   "outputs": [
    {
     "name": "stdout",
     "output_type": "stream",
     "text": [
      "abcabcabc\n",
      "['abcabc', 'bcabca', 'cabcab']\n"
     ]
    }
   ],
   "source": [
    "string = input()\n",
    "res = ['']\n",
    "for i in range(len(string)-2):\n",
    "    for j in range(i+2, len(string)+1):\n",
    "        if (j - i) % 2 == 0:\n",
    "            center = (i + j) // 2\n",
    "            if string[i:center] == string[center:j] and string[i:j] not in res:\n",
    "                if len(string[i:j]) > len(res[0]):\n",
    "                    res = [string[i:j]]\n",
    "                elif len(string[i:j]) == len(res[0]):\n",
    "                    res.append(string[i:j])\n",
    "print(\"There are no concatenations!\") if res[0] == '' else print(res)"
   ]
  },
  {
   "cell_type": "markdown",
   "metadata": {},
   "source": [
    "### Задание №4: \"Треугольник с максимальным периметром\"\n",
    "Массив A состоит из целых положительных чисел длин отрезков. Составьте из трех отрезков такой треугольник, чтобы его периметр был максимально возможным. Если невозможно составить треугольник с положительной площадью функция возвращает 0."
   ]
  },
  {
   "cell_type": "code",
   "execution_count": 5,
   "metadata": {},
   "outputs": [
    {
     "name": "stdout",
     "output_type": "stream",
     "text": [
      "Введите длины отрезков: 3 6 2 3\n",
      "8\n"
     ]
    }
   ],
   "source": [
    "input_a = input(\"Введите длины отрезков: \")\n",
    "try:\n",
    "    a = input_a.split()  # сделан разделенный список длин\n",
    "    for i in range(len(a)):\n",
    "        a[i] = int(a[i]) \n",
    "    a.sort(reverse = True)\n",
    "    max_length = 0  # finding a max triangle\n",
    "    for i in range(len(a)):\n",
    "        for j in range(i + 1, len(a)):\n",
    "            for k in range(j + 1, len(a)):\n",
    "                if a[i] < a[j] + a[k]:\n",
    "                    max_length = max(max_length, a[i] + a[j] + a[k])\n",
    "    print(max_length)\n",
    "except ValueError:\n",
    "    print(\"Введите корректные данные\")"
   ]
  },
  {
   "cell_type": "markdown",
   "metadata": {},
   "source": [
    "### Задание №5: \"Максимальное число\"\n",
    "Дан массив неотрицательных целых чисел nums. Расположите их в таком порядке, чтобы вместе они образовали максимально возможное число."
   ]
  },
  {
   "cell_type": "code",
   "execution_count": 4,
   "metadata": {},
   "outputs": [
    {
     "name": "stdout",
     "output_type": "stream",
     "text": [
      "Введите числа: 9 5 34 30 3 4\n",
      "95434330\n"
     ]
    }
   ],
   "source": [
    "input_b = input(\"Введите числа: \")\n",
    "def compare(got, cur):\n",
    "    for i in range(min(len(cur), len(got))):\n",
    "        if ord(cur[i]) > ord(got[i]):\n",
    "            return cur\n",
    "        elif ord(cur[i]) < ord(got[i]):\n",
    "            return got\n",
    "        else:\n",
    "            if i == min(len(cur), len(got)) - 1:\n",
    "                if len(cur) == len(got):\n",
    "                    return cur\n",
    "                if len(got) > len(cur):\n",
    "                    longer = got\n",
    "                    shorter = cur\n",
    "                else:\n",
    "                    longer = cur\n",
    "                    shorter = got\n",
    "                if ord(longer[i + 1]) <= ord(shorter[0]):\n",
    "                    return shorter\n",
    "                else:\n",
    "                    return longer\n",
    "\n",
    "\n",
    "try:\n",
    "    b = input_b.split()\n",
    "    res = ''\n",
    "    while len(b) > 0:\n",
    "        c = '0'\n",
    "        for i in b:\n",
    "            c = compare(i, c)\n",
    "        res += c\n",
    "        b.remove(c)\n",
    "    if len(res) > 1 and res[0] == '0':\n",
    "        print(\"Такого числа не существует\")\n",
    "    else:\n",
    "        print(res)\n",
    "except ValueError:\n",
    "    print(\"Введите корректные данные\")"
   ]
  },
  {
   "cell_type": "markdown",
   "metadata": {},
   "source": [
    "### Задание №6: \"Сортировка диагоналей в матрице\"\n",
    "Дана матрица mat размером m * n, значения целочисленные. Напишите функцию, сортирующую каждую диагональ матрицы по возрастанию и возвращающую получившуюся матрицу."
   ]
  },
  {
   "cell_type": "code",
   "execution_count": 5,
   "metadata": {},
   "outputs": [],
   "source": [
    "mat = [[11, 25, 66, 1, 69, 7], [23, 55, 17, 45, 15, 52], [75, 31, 36, 44, 58, 8], [22, 27, 33, 25, 68, 4], [84, 28, 14, 11, 5, 50]]"
   ]
  },
  {
   "cell_type": "code",
   "execution_count": 6,
   "metadata": {},
   "outputs": [
    {
     "name": "stdout",
     "output_type": "stream",
     "text": [
      "[5, 17, 4, 1, 52, 7]\n",
      "[11, 11, 25, 45, 8, 69]\n",
      "[14, 23, 25, 44, 58, 15]\n",
      "[22, 27, 31, 36, 50, 66]\n",
      "[84, 28, 75, 33, 55, 68]\n"
     ]
    }
   ],
   "source": [
    "check = True\n",
    "for i in range(len(mat) - 1):\n",
    "    if len(mat[i]) != len(mat[i + 1]):\n",
    "        check = False\n",
    "        break\n",
    "if check:\n",
    "    for i in range(len(mat)):\n",
    "        array = []\n",
    "        for j in range(len(mat)):\n",
    "            if i + j < len(mat):\n",
    "                array.append(mat[i + j][0 + j])\n",
    "        array.sort()\n",
    "        for j in range(len(mat)):\n",
    "            if i + j < len(mat):\n",
    "                mat[i + j][0 + j] = array[j]\n",
    "    for i in range(1, len(mat[0])):\n",
    "        array = []\n",
    "        for j in range(len(mat[0])):\n",
    "            if i + j < len(mat[0]):\n",
    "                array.append(mat[0 + j][i + j])\n",
    "        array.sort()\n",
    "        for j in range(len(mat[0])):\n",
    "            if i + j < len(mat[0]):\n",
    "                mat[0 + j][i + j] = array[j]\n",
    "\n",
    "for i in range(len(mat)):\n",
    "    print(mat[i])"
   ]
  },
  {
   "cell_type": "markdown",
   "metadata": {},
   "source": [
    "### Задание №7\n",
    "Дан массив отрезков intervals, в котором intervals[i] = [start_i, end_i], некоторые\n",
    "отрезки могут пересекаться. Напишите функцию, которая объединяет все пересекающиеся отрезки в один и возвращает новый массив непересекающихся отрезков.\n"
   ]
  },
  {
   "cell_type": "markdown",
   "metadata": {},
   "source": [
    "### Задание №8\n",
    "На столе стоят 3n стопок монет. Вы и ваши друзья Алиса и Боб забираете стопки монет по следующему алгоритму:\n",
    "1. Вы выбираете 3 стопки монет из оставшихся на столе.\n",
    "2. Алиса забирает себе стопку с максимальным количеством монет.\n",
    "3. Вы забираете одну из двух оставшихся стопок.\n",
    "4. Боб забирает последнюю стопку.\n",
    "5. Если еще остались стопки, то действия повторяются с первого шага.\n",
    "Дан массив целых положительных чисел piles. Напишите функцию, возвращающую максимальное число монет, которое вы можете получит"
   ]
  },
  {
   "cell_type": "markdown",
   "metadata": {},
   "source": [
    "### Задание №9\n",
    "Дан массив points, где points[i] = [x_start, x_end]. Напишите функцию, возвращающую минимальное количество стрел, которые нужно выпустить, чтобы уничтожить все шарики."
   ]
  },
  {
   "cell_type": "markdown",
   "metadata": {},
   "source": [
    "### Задание №"
   ]
  }
 ],
 "metadata": {
  "kernelspec": {
   "display_name": "Python 3",
   "language": "python",
   "name": "python3"
  },
  "language_info": {
   "codemirror_mode": {
    "name": "ipython",
    "version": 3
   },
   "file_extension": ".py",
   "mimetype": "text/x-python",
   "name": "python",
   "nbconvert_exporter": "python",
   "pygments_lexer": "ipython3",
   "version": "3.8.5"
  }
 },
 "nbformat": 4,
 "nbformat_minor": 4
}
