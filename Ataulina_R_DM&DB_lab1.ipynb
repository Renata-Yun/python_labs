{
 "cells": [
  {
   "cell_type": "markdown",
   "metadata": {},
   "source": [
    " "
   ]
  },
  {
   "cell_type": "markdown",
   "metadata": {},
   "source": [
    "## О Jupyter notebook"
   ]
  },
  {
   "cell_type": "markdown",
   "metadata": {
    "collapsed": true
   },
   "source": [
    "Jupyter Notebook — это среда разработки, где сразу можно видеть результат выполнения кода и его отдельных фрагментов. Отличие от традиционной среды разработки в том, что код можно разбить на куски и выполнять их в произвольном порядке.\n",
    "Для запуска кода в ячейке можно воспользоваться меню сверху или нажать клавиши \"Enter+Shift\".\n",
    "\n",
    "Основная область применения ноутбуков — машинное обучение, нейросети, визуализация данных и статистика.\n",
    "\n",
    "Ещё такую среду часто используют для поэтапной разработки, когда нужно по шагам проверять работу разных фрагментов кода. Дело в том, что код в ноутбуках хранится в независимых ячейках и его можно запускать в любом порядке или поодиночке. Это позволяет быстро экспериментировать с алгоритмами и находить оптимальное решение.\n",
    "\n",
    "Также jupyter-ноутбуки используются при обучении программированию на Python, чтобы писать код и сразу видеть результат его работы.\n",
    "\n",
    "Есть два основных типа ячеек, которые мы рассмотрим:\n",
    "\n",
    "- Ячейка кода содержит код, который должен быть выполнен в ядре, и отображает его вывод ниже.\n",
    "- Ячейка Markdown содержит текст, отформатированный с использованием Markdown, и отображает его вывод на месте при запуске."
   ]
  },
  {
   "cell_type": "code",
   "execution_count": 1,
   "metadata": {},
   "outputs": [
    {
     "data": {
      "text/plain": [
       "4"
      ]
     },
     "execution_count": 1,
     "metadata": {},
     "output_type": "execute_result"
    }
   ],
   "source": [
    "# ячейка с кодом, при выполнении которой появится output\n",
    "2 + 2"
   ]
  },
  {
   "cell_type": "markdown",
   "metadata": {},
   "source": [
    "А это ___ячейка с текстом___."
   ]
  },
  {
   "cell_type": "raw",
   "metadata": {},
   "source": [
    "Ячейка с неразмеченыным текстом."
   ]
  },
  {
   "cell_type": "markdown",
   "metadata": {},
   "source": [
    "Попробуйте создать свои ячейки, написать какой-нибудь код и текст какой-нибудь формулой."
   ]
  },
  {
   "cell_type": "code",
   "execution_count": 2,
   "metadata": {},
   "outputs": [
    {
     "data": {
      "text/plain": [
       "49"
      ]
     },
     "execution_count": 2,
     "metadata": {},
     "output_type": "execute_result"
    }
   ],
   "source": [
    "# your code\n",
    "4 + 45"
   ]
  },
  {
   "cell_type": "markdown",
   "metadata": {},
   "source": [
    "[Здесь](https://athena.brynmawr.edu/jupyter/hub/dblank/public/Jupyter%20Notebook%20Users%20Manual.ipynb) находится <s>не</s>большая заметка о используемом языке разметки Markdown. Он позволяет:\n",
    "\n",
    "0. Составлять упорядоченные списки\n",
    "1. #Делать \n",
    "##заголовки \n",
    "###разного уровня\n",
    "3. Выделять *текст* <s>при</s> **необходимости**\n",
    "4. Добавлять [ссылки](http://imgs.xkcd.com/comics/the_universal_label.png)\n",
    "\n",
    "\n",
    "* Составлять неупорядоченные списки\n",
    "\n",
    "Делать вставки с помощью LaTex:\n",
    "    \n",
    "$\n",
    "\\left\\{\n",
    "\\begin{array}{ll}\n",
    "x = 16 \\sin^3 (t) \\\\ \n",
    "y = 13 \\cos (t) - 5 \\cos (2t) - 2 \\cos (3t) - \\cos (4t) \\\\\n",
    "t \\in [0, 2 \\pi]\n",
    "\\end{array}\n",
    "\\right.$"
   ]
  },
  {
   "cell_type": "markdown",
   "metadata": {},
   "source": [
    "## 1. Табличные данные и Pandas"
   ]
  },
  {
   "cell_type": "markdown",
   "metadata": {},
   "source": [
    "Pandas — это библиотека для работы с данными на Python. Она упрощает жизнь аналитикам: где раньше использовалось 10 строк кода теперь хватит одной.\n",
    "\n",
    "Например, чтобы прочитать данные из csv, в стандартном Python надо сначала решить, как хранить данные, затем открыть файл, прочитать его построчно, отделить значения друг от друга и очистить данные от специальных символов.\n",
    "\n",
    "В Pandas всё проще. Во-первых, не нужно думать, как будут храниться данные — они лежат в датафрейме. Во-вторых, достаточно написать одну команду:\n",
    "\n",
    " data = pd.read_csv('file.csv')\n",
    "\n",
    "Pandas добавляет в Python новые структуры данных — серии и датафреймы. \n",
    "\n",
    "Серии — одномерные массивы данных. Они очень похожи на списки, но отличаются по поведению — например, операции применяются к списку целиком, а в сериях — поэлементно.\n",
    "Еще одно отличие серий от списков — в качестве индексов можно использовать произвольные значения, это делает данные нагляднее.\n",
    "Датафрейм — это проиндексированный многомерный массив значений, соответственно каждый столбец датафрейма, является серией."
   ]
  },
  {
   "cell_type": "code",
   "execution_count": 3,
   "metadata": {},
   "outputs": [],
   "source": [
    "#%pylab inline # import almost all we need\n",
    "import pandas"
   ]
  },
  {
   "cell_type": "markdown",
   "metadata": {},
   "source": [
    "#### 1. Прочитайте файл с таблицей, выведите последние 10 строк.\n",
    "\n"
   ]
  },
  {
   "cell_type": "code",
   "execution_count": 51,
   "metadata": {},
   "outputs": [
    {
     "data": {
      "text/html": [
       "<div>\n",
       "<style scoped>\n",
       "    .dataframe tbody tr th:only-of-type {\n",
       "        vertical-align: middle;\n",
       "    }\n",
       "\n",
       "    .dataframe tbody tr th {\n",
       "        vertical-align: top;\n",
       "    }\n",
       "\n",
       "    .dataframe thead th {\n",
       "        text-align: right;\n",
       "    }\n",
       "</style>\n",
       "<table border=\"1\" class=\"dataframe\">\n",
       "  <thead>\n",
       "    <tr style=\"text-align: right;\">\n",
       "      <th></th>\n",
       "      <th>event_time</th>\n",
       "      <th>order_id</th>\n",
       "      <th>product_id</th>\n",
       "      <th>category_id</th>\n",
       "      <th>category_code</th>\n",
       "      <th>brand</th>\n",
       "      <th>price</th>\n",
       "      <th>user_id</th>\n",
       "    </tr>\n",
       "  </thead>\n",
       "  <tbody>\n",
       "    <tr>\n",
       "      <th>2633511</th>\n",
       "      <td>2020-11-21 10:05:04 UTC</td>\n",
       "      <td>2388440981134693938</td>\n",
       "      <td>1515966223509088509</td>\n",
       "      <td>2.268105e+18</td>\n",
       "      <td>electronics.smartphone</td>\n",
       "      <td>apple</td>\n",
       "      <td>925.67</td>\n",
       "      <td>1.515916e+18</td>\n",
       "    </tr>\n",
       "    <tr>\n",
       "      <th>2633512</th>\n",
       "      <td>2020-11-21 10:06:01 UTC</td>\n",
       "      <td>2388440981134693939</td>\n",
       "      <td>1515966223509090132</td>\n",
       "      <td>2.268105e+18</td>\n",
       "      <td>computers.peripherals.printer</td>\n",
       "      <td>canon</td>\n",
       "      <td>299.98</td>\n",
       "      <td>1.515916e+18</td>\n",
       "    </tr>\n",
       "    <tr>\n",
       "      <th>2633513</th>\n",
       "      <td>2020-11-21 10:08:14 UTC</td>\n",
       "      <td>2388440981134693940</td>\n",
       "      <td>2273948246856434093</td>\n",
       "      <td>2.268105e+18</td>\n",
       "      <td>NaN</td>\n",
       "      <td>xiaomi</td>\n",
       "      <td>16.18</td>\n",
       "      <td>1.515916e+18</td>\n",
       "    </tr>\n",
       "    <tr>\n",
       "      <th>2633514</th>\n",
       "      <td>2020-11-21 10:08:54 UTC</td>\n",
       "      <td>2388440981134693941</td>\n",
       "      <td>1515966223519279912</td>\n",
       "      <td>2.374499e+18</td>\n",
       "      <td>electronics.video.tv</td>\n",
       "      <td>samsung</td>\n",
       "      <td>1736.09</td>\n",
       "      <td>1.515916e+18</td>\n",
       "    </tr>\n",
       "    <tr>\n",
       "      <th>2633515</th>\n",
       "      <td>2020-11-21 10:08:54 UTC</td>\n",
       "      <td>2388440981134693941</td>\n",
       "      <td>1515966223509088622</td>\n",
       "      <td>2.374499e+18</td>\n",
       "      <td>electronics.video.tv</td>\n",
       "      <td>lg</td>\n",
       "      <td>370.35</td>\n",
       "      <td>1.515916e+18</td>\n",
       "    </tr>\n",
       "    <tr>\n",
       "      <th>2633516</th>\n",
       "      <td>2020-11-21 10:10:01 UTC</td>\n",
       "      <td>2388440981134693942</td>\n",
       "      <td>1515966223526602848</td>\n",
       "      <td>2.268105e+18</td>\n",
       "      <td>electronics.smartphone</td>\n",
       "      <td>oppo</td>\n",
       "      <td>138.87</td>\n",
       "      <td>1.515916e+18</td>\n",
       "    </tr>\n",
       "    <tr>\n",
       "      <th>2633517</th>\n",
       "      <td>2020-11-21 10:10:13 UTC</td>\n",
       "      <td>2388440981134693943</td>\n",
       "      <td>1515966223509089282</td>\n",
       "      <td>2.268105e+18</td>\n",
       "      <td>electronics.smartphone</td>\n",
       "      <td>apple</td>\n",
       "      <td>418.96</td>\n",
       "      <td>1.515916e+18</td>\n",
       "    </tr>\n",
       "    <tr>\n",
       "      <th>2633518</th>\n",
       "      <td>2020-11-21 10:10:30 UTC</td>\n",
       "      <td>2388440981134693944</td>\n",
       "      <td>1515966223509089917</td>\n",
       "      <td>2.268105e+18</td>\n",
       "      <td>appliances.personal.scales</td>\n",
       "      <td>vitek</td>\n",
       "      <td>12.48</td>\n",
       "      <td>1.515916e+18</td>\n",
       "    </tr>\n",
       "    <tr>\n",
       "      <th>2633519</th>\n",
       "      <td>2020-11-21 10:10:30 UTC</td>\n",
       "      <td>2388440981134693944</td>\n",
       "      <td>2273948184839454837</td>\n",
       "      <td>2.268105e+18</td>\n",
       "      <td>NaN</td>\n",
       "      <td>moulinex</td>\n",
       "      <td>41.64</td>\n",
       "      <td>1.515916e+18</td>\n",
       "    </tr>\n",
       "    <tr>\n",
       "      <th>2633520</th>\n",
       "      <td>2020-11-21 10:10:30 UTC</td>\n",
       "      <td>2388440981134693944</td>\n",
       "      <td>1515966223509127566</td>\n",
       "      <td>2.268105e+18</td>\n",
       "      <td>appliances.kitchen.blender</td>\n",
       "      <td>redmond</td>\n",
       "      <td>53.22</td>\n",
       "      <td>1.515916e+18</td>\n",
       "    </tr>\n",
       "  </tbody>\n",
       "</table>\n",
       "</div>"
      ],
      "text/plain": [
       "                      event_time             order_id           product_id  \\\n",
       "2633511  2020-11-21 10:05:04 UTC  2388440981134693938  1515966223509088509   \n",
       "2633512  2020-11-21 10:06:01 UTC  2388440981134693939  1515966223509090132   \n",
       "2633513  2020-11-21 10:08:14 UTC  2388440981134693940  2273948246856434093   \n",
       "2633514  2020-11-21 10:08:54 UTC  2388440981134693941  1515966223519279912   \n",
       "2633515  2020-11-21 10:08:54 UTC  2388440981134693941  1515966223509088622   \n",
       "2633516  2020-11-21 10:10:01 UTC  2388440981134693942  1515966223526602848   \n",
       "2633517  2020-11-21 10:10:13 UTC  2388440981134693943  1515966223509089282   \n",
       "2633518  2020-11-21 10:10:30 UTC  2388440981134693944  1515966223509089917   \n",
       "2633519  2020-11-21 10:10:30 UTC  2388440981134693944  2273948184839454837   \n",
       "2633520  2020-11-21 10:10:30 UTC  2388440981134693944  1515966223509127566   \n",
       "\n",
       "          category_id                  category_code     brand    price  \\\n",
       "2633511  2.268105e+18         electronics.smartphone     apple   925.67   \n",
       "2633512  2.268105e+18  computers.peripherals.printer     canon   299.98   \n",
       "2633513  2.268105e+18                            NaN    xiaomi    16.18   \n",
       "2633514  2.374499e+18           electronics.video.tv   samsung  1736.09   \n",
       "2633515  2.374499e+18           electronics.video.tv        lg   370.35   \n",
       "2633516  2.268105e+18         electronics.smartphone      oppo   138.87   \n",
       "2633517  2.268105e+18         electronics.smartphone     apple   418.96   \n",
       "2633518  2.268105e+18     appliances.personal.scales     vitek    12.48   \n",
       "2633519  2.268105e+18                            NaN  moulinex    41.64   \n",
       "2633520  2.268105e+18     appliances.kitchen.blender   redmond    53.22   \n",
       "\n",
       "              user_id  \n",
       "2633511  1.515916e+18  \n",
       "2633512  1.515916e+18  \n",
       "2633513  1.515916e+18  \n",
       "2633514  1.515916e+18  \n",
       "2633515  1.515916e+18  \n",
       "2633516  1.515916e+18  \n",
       "2633517  1.515916e+18  \n",
       "2633518  1.515916e+18  \n",
       "2633519  1.515916e+18  \n",
       "2633520  1.515916e+18  "
      ]
     },
     "execution_count": 51,
     "metadata": {},
     "output_type": "execute_result"
    }
   ],
   "source": [
    "data = pandas.read_csv('data_for_lab-1.csv', delimiter=',')\n",
    "data.tail(10)"
   ]
  },
  {
   "cell_type": "markdown",
   "metadata": {},
   "source": [
    "#### 2.  Выведите следующую информацию:\n",
    "1. Сколько всего заказов в исходной выборке данных?\n",
    "2. Количество уникальных категорий товара (category_code)"
   ]
  },
  {
   "cell_type": "code",
   "execution_count": 52,
   "metadata": {},
   "outputs": [
    {
     "name": "stdout",
     "output_type": "stream",
     "text": [
      "Count: 1435266\n",
      "Count: 511\n"
     ]
    }
   ],
   "source": [
    "print('Count:',len(data.order_id.unique()))\n",
    "print('Count:',len(data['category_code'].unique()))"
   ]
  },
  {
   "cell_type": "markdown",
   "metadata": {},
   "source": [
    "#### 3. Найдите столбцы с пустыми значениями, заполните строковые значения пустой строкой, числовые - 0."
   ]
  },
  {
   "cell_type": "code",
   "execution_count": 53,
   "metadata": {
    "scrolled": false
   },
   "outputs": [
    {
     "data": {
      "text/html": [
       "<div>\n",
       "<style scoped>\n",
       "    .dataframe tbody tr th:only-of-type {\n",
       "        vertical-align: middle;\n",
       "    }\n",
       "\n",
       "    .dataframe tbody tr th {\n",
       "        vertical-align: top;\n",
       "    }\n",
       "\n",
       "    .dataframe thead th {\n",
       "        text-align: right;\n",
       "    }\n",
       "</style>\n",
       "<table border=\"1\" class=\"dataframe\">\n",
       "  <thead>\n",
       "    <tr style=\"text-align: right;\">\n",
       "      <th></th>\n",
       "      <th>event_time</th>\n",
       "      <th>order_id</th>\n",
       "      <th>product_id</th>\n",
       "      <th>category_id</th>\n",
       "      <th>category_code</th>\n",
       "      <th>brand</th>\n",
       "      <th>price</th>\n",
       "      <th>user_id</th>\n",
       "    </tr>\n",
       "  </thead>\n",
       "  <tbody>\n",
       "    <tr>\n",
       "      <th>0</th>\n",
       "      <td>2020-04-24 11:50:39 UTC</td>\n",
       "      <td>2294359932054536986</td>\n",
       "      <td>1515966223509089906</td>\n",
       "      <td>2.268105e+18</td>\n",
       "      <td>electronics.tablet</td>\n",
       "      <td>samsung</td>\n",
       "      <td>162.01</td>\n",
       "      <td>1.515916e+18</td>\n",
       "    </tr>\n",
       "    <tr>\n",
       "      <th>1</th>\n",
       "      <td>2020-04-24 11:50:39 UTC</td>\n",
       "      <td>2294359932054536986</td>\n",
       "      <td>1515966223509089906</td>\n",
       "      <td>2.268105e+18</td>\n",
       "      <td>electronics.tablet</td>\n",
       "      <td>samsung</td>\n",
       "      <td>162.01</td>\n",
       "      <td>1.515916e+18</td>\n",
       "    </tr>\n",
       "    <tr>\n",
       "      <th>2</th>\n",
       "      <td>2020-04-24 14:37:43 UTC</td>\n",
       "      <td>2294444024058086220</td>\n",
       "      <td>2273948319057183658</td>\n",
       "      <td>2.268105e+18</td>\n",
       "      <td>electronics.audio.headphone</td>\n",
       "      <td>huawei</td>\n",
       "      <td>77.52</td>\n",
       "      <td>1.515916e+18</td>\n",
       "    </tr>\n",
       "    <tr>\n",
       "      <th>3</th>\n",
       "      <td>2020-04-24 14:37:43 UTC</td>\n",
       "      <td>2294444024058086220</td>\n",
       "      <td>2273948319057183658</td>\n",
       "      <td>2.268105e+18</td>\n",
       "      <td>electronics.audio.headphone</td>\n",
       "      <td>huawei</td>\n",
       "      <td>77.52</td>\n",
       "      <td>1.515916e+18</td>\n",
       "    </tr>\n",
       "    <tr>\n",
       "      <th>4</th>\n",
       "      <td>2020-04-24 19:16:21 UTC</td>\n",
       "      <td>2294584263154074236</td>\n",
       "      <td>2273948316817424439</td>\n",
       "      <td>2.268105e+18</td>\n",
       "      <td></td>\n",
       "      <td>karcher</td>\n",
       "      <td>217.57</td>\n",
       "      <td>1.515916e+18</td>\n",
       "    </tr>\n",
       "    <tr>\n",
       "      <th>...</th>\n",
       "      <td>...</td>\n",
       "      <td>...</td>\n",
       "      <td>...</td>\n",
       "      <td>...</td>\n",
       "      <td>...</td>\n",
       "      <td>...</td>\n",
       "      <td>...</td>\n",
       "      <td>...</td>\n",
       "    </tr>\n",
       "    <tr>\n",
       "      <th>2633516</th>\n",
       "      <td>2020-11-21 10:10:01 UTC</td>\n",
       "      <td>2388440981134693942</td>\n",
       "      <td>1515966223526602848</td>\n",
       "      <td>2.268105e+18</td>\n",
       "      <td>electronics.smartphone</td>\n",
       "      <td>oppo</td>\n",
       "      <td>138.87</td>\n",
       "      <td>1.515916e+18</td>\n",
       "    </tr>\n",
       "    <tr>\n",
       "      <th>2633517</th>\n",
       "      <td>2020-11-21 10:10:13 UTC</td>\n",
       "      <td>2388440981134693943</td>\n",
       "      <td>1515966223509089282</td>\n",
       "      <td>2.268105e+18</td>\n",
       "      <td>electronics.smartphone</td>\n",
       "      <td>apple</td>\n",
       "      <td>418.96</td>\n",
       "      <td>1.515916e+18</td>\n",
       "    </tr>\n",
       "    <tr>\n",
       "      <th>2633518</th>\n",
       "      <td>2020-11-21 10:10:30 UTC</td>\n",
       "      <td>2388440981134693944</td>\n",
       "      <td>1515966223509089917</td>\n",
       "      <td>2.268105e+18</td>\n",
       "      <td>appliances.personal.scales</td>\n",
       "      <td>vitek</td>\n",
       "      <td>12.48</td>\n",
       "      <td>1.515916e+18</td>\n",
       "    </tr>\n",
       "    <tr>\n",
       "      <th>2633519</th>\n",
       "      <td>2020-11-21 10:10:30 UTC</td>\n",
       "      <td>2388440981134693944</td>\n",
       "      <td>2273948184839454837</td>\n",
       "      <td>2.268105e+18</td>\n",
       "      <td></td>\n",
       "      <td>moulinex</td>\n",
       "      <td>41.64</td>\n",
       "      <td>1.515916e+18</td>\n",
       "    </tr>\n",
       "    <tr>\n",
       "      <th>2633520</th>\n",
       "      <td>2020-11-21 10:10:30 UTC</td>\n",
       "      <td>2388440981134693944</td>\n",
       "      <td>1515966223509127566</td>\n",
       "      <td>2.268105e+18</td>\n",
       "      <td>appliances.kitchen.blender</td>\n",
       "      <td>redmond</td>\n",
       "      <td>53.22</td>\n",
       "      <td>1.515916e+18</td>\n",
       "    </tr>\n",
       "  </tbody>\n",
       "</table>\n",
       "<p>2633521 rows × 8 columns</p>\n",
       "</div>"
      ],
      "text/plain": [
       "                      event_time             order_id           product_id  \\\n",
       "0        2020-04-24 11:50:39 UTC  2294359932054536986  1515966223509089906   \n",
       "1        2020-04-24 11:50:39 UTC  2294359932054536986  1515966223509089906   \n",
       "2        2020-04-24 14:37:43 UTC  2294444024058086220  2273948319057183658   \n",
       "3        2020-04-24 14:37:43 UTC  2294444024058086220  2273948319057183658   \n",
       "4        2020-04-24 19:16:21 UTC  2294584263154074236  2273948316817424439   \n",
       "...                          ...                  ...                  ...   \n",
       "2633516  2020-11-21 10:10:01 UTC  2388440981134693942  1515966223526602848   \n",
       "2633517  2020-11-21 10:10:13 UTC  2388440981134693943  1515966223509089282   \n",
       "2633518  2020-11-21 10:10:30 UTC  2388440981134693944  1515966223509089917   \n",
       "2633519  2020-11-21 10:10:30 UTC  2388440981134693944  2273948184839454837   \n",
       "2633520  2020-11-21 10:10:30 UTC  2388440981134693944  1515966223509127566   \n",
       "\n",
       "          category_id                category_code     brand   price  \\\n",
       "0        2.268105e+18           electronics.tablet   samsung  162.01   \n",
       "1        2.268105e+18           electronics.tablet   samsung  162.01   \n",
       "2        2.268105e+18  electronics.audio.headphone    huawei   77.52   \n",
       "3        2.268105e+18  electronics.audio.headphone    huawei   77.52   \n",
       "4        2.268105e+18                                karcher  217.57   \n",
       "...               ...                          ...       ...     ...   \n",
       "2633516  2.268105e+18       electronics.smartphone      oppo  138.87   \n",
       "2633517  2.268105e+18       electronics.smartphone     apple  418.96   \n",
       "2633518  2.268105e+18   appliances.personal.scales     vitek   12.48   \n",
       "2633519  2.268105e+18                               moulinex   41.64   \n",
       "2633520  2.268105e+18   appliances.kitchen.blender   redmond   53.22   \n",
       "\n",
       "              user_id  \n",
       "0        1.515916e+18  \n",
       "1        1.515916e+18  \n",
       "2        1.515916e+18  \n",
       "3        1.515916e+18  \n",
       "4        1.515916e+18  \n",
       "...               ...  \n",
       "2633516  1.515916e+18  \n",
       "2633517  1.515916e+18  \n",
       "2633518  1.515916e+18  \n",
       "2633519  1.515916e+18  \n",
       "2633520  1.515916e+18  \n",
       "\n",
       "[2633521 rows x 8 columns]"
      ]
     },
     "execution_count": 53,
     "metadata": {},
     "output_type": "execute_result"
    }
   ],
   "source": [
    "data.category_code.fillna('',inplace=True)\n",
    "data.isna().sum()\n",
    "data=data\n",
    "data"
   ]
  },
  {
   "cell_type": "markdown",
   "metadata": {},
   "source": [
    "#### 4.  Обратите внимание на колонку, содержащую цену товара. Создайте новую колонку, таким образом, чтобы цена стала числом.\n",
    "\n",
    "Для этого необходимо применить функцию-преобразование к каждой строке таблицы (для этого есть соответствующая функция)."
   ]
  },
  {
   "cell_type": "markdown",
   "metadata": {},
   "source": [
    "Выведите среднюю/минимальную/максимальную цену у товара."
   ]
  },
  {
   "cell_type": "code",
   "execution_count": 54,
   "metadata": {
    "scrolled": true
   },
   "outputs": [
    {
     "name": "stdout",
     "output_type": "stream",
     "text": [
      "50925.9\n",
      "154.09316532704963\n",
      "55.53\n",
      "0.0\n"
     ]
    }
   ],
   "source": [
    "data['price_ch'] = pandas.to_numeric(data['price'])\n",
    "maxim = data['price_ch'].max()\n",
    "meane = data['price_ch'].mean()\n",
    "medan = data['price_ch'].median()\n",
    "minsk = data['price_ch'].min()\n",
    "print(maxim)\n",
    "print(meane)\n",
    "print(medan)\n",
    "print(minsk)"
   ]
  },
  {
   "cell_type": "markdown",
   "metadata": {},
   "source": [
    "Удалите старую колонку с ценой."
   ]
  },
  {
   "cell_type": "code",
   "execution_count": 55,
   "metadata": {},
   "outputs": [
    {
     "data": {
      "text/html": [
       "<div>\n",
       "<style scoped>\n",
       "    .dataframe tbody tr th:only-of-type {\n",
       "        vertical-align: middle;\n",
       "    }\n",
       "\n",
       "    .dataframe tbody tr th {\n",
       "        vertical-align: top;\n",
       "    }\n",
       "\n",
       "    .dataframe thead th {\n",
       "        text-align: right;\n",
       "    }\n",
       "</style>\n",
       "<table border=\"1\" class=\"dataframe\">\n",
       "  <thead>\n",
       "    <tr style=\"text-align: right;\">\n",
       "      <th></th>\n",
       "      <th>event_time</th>\n",
       "      <th>order_id</th>\n",
       "      <th>product_id</th>\n",
       "      <th>category_id</th>\n",
       "      <th>category_code</th>\n",
       "      <th>brand</th>\n",
       "      <th>user_id</th>\n",
       "      <th>price_ch</th>\n",
       "    </tr>\n",
       "  </thead>\n",
       "  <tbody>\n",
       "    <tr>\n",
       "      <th>0</th>\n",
       "      <td>2020-04-24 11:50:39 UTC</td>\n",
       "      <td>2294359932054536986</td>\n",
       "      <td>1515966223509089906</td>\n",
       "      <td>2.268105e+18</td>\n",
       "      <td>electronics.tablet</td>\n",
       "      <td>samsung</td>\n",
       "      <td>1.515916e+18</td>\n",
       "      <td>162.01</td>\n",
       "    </tr>\n",
       "    <tr>\n",
       "      <th>1</th>\n",
       "      <td>2020-04-24 11:50:39 UTC</td>\n",
       "      <td>2294359932054536986</td>\n",
       "      <td>1515966223509089906</td>\n",
       "      <td>2.268105e+18</td>\n",
       "      <td>electronics.tablet</td>\n",
       "      <td>samsung</td>\n",
       "      <td>1.515916e+18</td>\n",
       "      <td>162.01</td>\n",
       "    </tr>\n",
       "    <tr>\n",
       "      <th>2</th>\n",
       "      <td>2020-04-24 14:37:43 UTC</td>\n",
       "      <td>2294444024058086220</td>\n",
       "      <td>2273948319057183658</td>\n",
       "      <td>2.268105e+18</td>\n",
       "      <td>electronics.audio.headphone</td>\n",
       "      <td>huawei</td>\n",
       "      <td>1.515916e+18</td>\n",
       "      <td>77.52</td>\n",
       "    </tr>\n",
       "    <tr>\n",
       "      <th>3</th>\n",
       "      <td>2020-04-24 14:37:43 UTC</td>\n",
       "      <td>2294444024058086220</td>\n",
       "      <td>2273948319057183658</td>\n",
       "      <td>2.268105e+18</td>\n",
       "      <td>electronics.audio.headphone</td>\n",
       "      <td>huawei</td>\n",
       "      <td>1.515916e+18</td>\n",
       "      <td>77.52</td>\n",
       "    </tr>\n",
       "    <tr>\n",
       "      <th>4</th>\n",
       "      <td>2020-04-24 19:16:21 UTC</td>\n",
       "      <td>2294584263154074236</td>\n",
       "      <td>2273948316817424439</td>\n",
       "      <td>2.268105e+18</td>\n",
       "      <td></td>\n",
       "      <td>karcher</td>\n",
       "      <td>1.515916e+18</td>\n",
       "      <td>217.57</td>\n",
       "    </tr>\n",
       "    <tr>\n",
       "      <th>...</th>\n",
       "      <td>...</td>\n",
       "      <td>...</td>\n",
       "      <td>...</td>\n",
       "      <td>...</td>\n",
       "      <td>...</td>\n",
       "      <td>...</td>\n",
       "      <td>...</td>\n",
       "      <td>...</td>\n",
       "    </tr>\n",
       "    <tr>\n",
       "      <th>2633516</th>\n",
       "      <td>2020-11-21 10:10:01 UTC</td>\n",
       "      <td>2388440981134693942</td>\n",
       "      <td>1515966223526602848</td>\n",
       "      <td>2.268105e+18</td>\n",
       "      <td>electronics.smartphone</td>\n",
       "      <td>oppo</td>\n",
       "      <td>1.515916e+18</td>\n",
       "      <td>138.87</td>\n",
       "    </tr>\n",
       "    <tr>\n",
       "      <th>2633517</th>\n",
       "      <td>2020-11-21 10:10:13 UTC</td>\n",
       "      <td>2388440981134693943</td>\n",
       "      <td>1515966223509089282</td>\n",
       "      <td>2.268105e+18</td>\n",
       "      <td>electronics.smartphone</td>\n",
       "      <td>apple</td>\n",
       "      <td>1.515916e+18</td>\n",
       "      <td>418.96</td>\n",
       "    </tr>\n",
       "    <tr>\n",
       "      <th>2633518</th>\n",
       "      <td>2020-11-21 10:10:30 UTC</td>\n",
       "      <td>2388440981134693944</td>\n",
       "      <td>1515966223509089917</td>\n",
       "      <td>2.268105e+18</td>\n",
       "      <td>appliances.personal.scales</td>\n",
       "      <td>vitek</td>\n",
       "      <td>1.515916e+18</td>\n",
       "      <td>12.48</td>\n",
       "    </tr>\n",
       "    <tr>\n",
       "      <th>2633519</th>\n",
       "      <td>2020-11-21 10:10:30 UTC</td>\n",
       "      <td>2388440981134693944</td>\n",
       "      <td>2273948184839454837</td>\n",
       "      <td>2.268105e+18</td>\n",
       "      <td></td>\n",
       "      <td>moulinex</td>\n",
       "      <td>1.515916e+18</td>\n",
       "      <td>41.64</td>\n",
       "    </tr>\n",
       "    <tr>\n",
       "      <th>2633520</th>\n",
       "      <td>2020-11-21 10:10:30 UTC</td>\n",
       "      <td>2388440981134693944</td>\n",
       "      <td>1515966223509127566</td>\n",
       "      <td>2.268105e+18</td>\n",
       "      <td>appliances.kitchen.blender</td>\n",
       "      <td>redmond</td>\n",
       "      <td>1.515916e+18</td>\n",
       "      <td>53.22</td>\n",
       "    </tr>\n",
       "  </tbody>\n",
       "</table>\n",
       "<p>2633521 rows × 8 columns</p>\n",
       "</div>"
      ],
      "text/plain": [
       "                      event_time             order_id           product_id  \\\n",
       "0        2020-04-24 11:50:39 UTC  2294359932054536986  1515966223509089906   \n",
       "1        2020-04-24 11:50:39 UTC  2294359932054536986  1515966223509089906   \n",
       "2        2020-04-24 14:37:43 UTC  2294444024058086220  2273948319057183658   \n",
       "3        2020-04-24 14:37:43 UTC  2294444024058086220  2273948319057183658   \n",
       "4        2020-04-24 19:16:21 UTC  2294584263154074236  2273948316817424439   \n",
       "...                          ...                  ...                  ...   \n",
       "2633516  2020-11-21 10:10:01 UTC  2388440981134693942  1515966223526602848   \n",
       "2633517  2020-11-21 10:10:13 UTC  2388440981134693943  1515966223509089282   \n",
       "2633518  2020-11-21 10:10:30 UTC  2388440981134693944  1515966223509089917   \n",
       "2633519  2020-11-21 10:10:30 UTC  2388440981134693944  2273948184839454837   \n",
       "2633520  2020-11-21 10:10:30 UTC  2388440981134693944  1515966223509127566   \n",
       "\n",
       "          category_id                category_code     brand       user_id  \\\n",
       "0        2.268105e+18           electronics.tablet   samsung  1.515916e+18   \n",
       "1        2.268105e+18           electronics.tablet   samsung  1.515916e+18   \n",
       "2        2.268105e+18  electronics.audio.headphone    huawei  1.515916e+18   \n",
       "3        2.268105e+18  electronics.audio.headphone    huawei  1.515916e+18   \n",
       "4        2.268105e+18                                karcher  1.515916e+18   \n",
       "...               ...                          ...       ...           ...   \n",
       "2633516  2.268105e+18       electronics.smartphone      oppo  1.515916e+18   \n",
       "2633517  2.268105e+18       electronics.smartphone     apple  1.515916e+18   \n",
       "2633518  2.268105e+18   appliances.personal.scales     vitek  1.515916e+18   \n",
       "2633519  2.268105e+18                               moulinex  1.515916e+18   \n",
       "2633520  2.268105e+18   appliances.kitchen.blender   redmond  1.515916e+18   \n",
       "\n",
       "         price_ch  \n",
       "0          162.01  \n",
       "1          162.01  \n",
       "2           77.52  \n",
       "3           77.52  \n",
       "4          217.57  \n",
       "...           ...  \n",
       "2633516    138.87  \n",
       "2633517    418.96  \n",
       "2633518     12.48  \n",
       "2633519     41.64  \n",
       "2633520     53.22  \n",
       "\n",
       "[2633521 rows x 8 columns]"
      ]
     },
     "execution_count": 55,
     "metadata": {},
     "output_type": "execute_result"
    }
   ],
   "source": [
    "data=data.drop(columns = ['price'],axis = 0)\n",
    "data"
   ]
  },
  {
   "cell_type": "markdown",
   "metadata": {},
   "source": [
    "#### 5. Отсортируйте стоимость товаров по убыванию, выведите 7 дорогих товаров. Отсортируйте товары по возрастанию стоимости, выведите 7 дешевых товаров  (по choice_description)\n",
    "\n",
    "Для этого избавьтесь от дубликатов и отсортируйте товары. Не забудьте про количество товара."
   ]
  },
  {
   "cell_type": "code",
   "execution_count": 56,
   "metadata": {},
   "outputs": [
    {
     "data": {
      "text/html": [
       "<div>\n",
       "<style scoped>\n",
       "    .dataframe tbody tr th:only-of-type {\n",
       "        vertical-align: middle;\n",
       "    }\n",
       "\n",
       "    .dataframe tbody tr th {\n",
       "        vertical-align: top;\n",
       "    }\n",
       "\n",
       "    .dataframe thead th {\n",
       "        text-align: right;\n",
       "    }\n",
       "</style>\n",
       "<table border=\"1\" class=\"dataframe\">\n",
       "  <thead>\n",
       "    <tr style=\"text-align: right;\">\n",
       "      <th></th>\n",
       "      <th>event_time</th>\n",
       "      <th>order_id</th>\n",
       "      <th>product_id</th>\n",
       "      <th>category_id</th>\n",
       "      <th>category_code</th>\n",
       "      <th>brand</th>\n",
       "      <th>user_id</th>\n",
       "      <th>price_ch</th>\n",
       "    </tr>\n",
       "  </thead>\n",
       "  <tbody>\n",
       "    <tr>\n",
       "      <th>1144303</th>\n",
       "      <td>2020-05-26 08:12:38 UTC</td>\n",
       "      <td>2353234364520727464</td>\n",
       "      <td>1515966223509105016</td>\n",
       "      <td>2.374499e+18</td>\n",
       "      <td>electronics.video.tv</td>\n",
       "      <td>samsung</td>\n",
       "      <td>NaN</td>\n",
       "      <td>50925.90</td>\n",
       "    </tr>\n",
       "    <tr>\n",
       "      <th>28182</th>\n",
       "      <td>2020-06-25 10:08:37 UTC</td>\n",
       "      <td>2339244674033647628</td>\n",
       "      <td>1515966223509131884</td>\n",
       "      <td>2.374499e+18</td>\n",
       "      <td>electronics.video.tv</td>\n",
       "      <td>NaN</td>\n",
       "      <td>1.515916e+18</td>\n",
       "      <td>18328.68</td>\n",
       "    </tr>\n",
       "    <tr>\n",
       "      <th>28623</th>\n",
       "      <td>2020-06-26 09:10:44 UTC</td>\n",
       "      <td>2339940319191106553</td>\n",
       "      <td>1515966223509566954</td>\n",
       "      <td>2.374499e+18</td>\n",
       "      <td>electronics.video.tv</td>\n",
       "      <td>NaN</td>\n",
       "      <td>1.515916e+18</td>\n",
       "      <td>13310.16</td>\n",
       "    </tr>\n",
       "    <tr>\n",
       "      <th>1153319</th>\n",
       "      <td>2020-05-27 06:37:30 UTC</td>\n",
       "      <td>2353235498996073224</td>\n",
       "      <td>2273948305316643078</td>\n",
       "      <td>2.268105e+18</td>\n",
       "      <td>electronics.video.tv</td>\n",
       "      <td>lg</td>\n",
       "      <td>NaN</td>\n",
       "      <td>11574.05</td>\n",
       "    </tr>\n",
       "    <tr>\n",
       "      <th>1627981</th>\n",
       "      <td>2020-07-03 11:59:01 UTC</td>\n",
       "      <td>2353288509000777918</td>\n",
       "      <td>2273948305316643078</td>\n",
       "      <td>2.268105e+18</td>\n",
       "      <td>electronics.video.tv</td>\n",
       "      <td>lg</td>\n",
       "      <td>1.515916e+18</td>\n",
       "      <td>11574.05</td>\n",
       "    </tr>\n",
       "    <tr>\n",
       "      <th>2270999</th>\n",
       "      <td>2020-09-16 06:46:10 UTC</td>\n",
       "      <td>2388440981134484484</td>\n",
       "      <td>1515966223520801280</td>\n",
       "      <td>2.374499e+18</td>\n",
       "      <td>electronics.video.tv</td>\n",
       "      <td>samsung</td>\n",
       "      <td>1.515916e+18</td>\n",
       "      <td>10416.64</td>\n",
       "    </tr>\n",
       "    <tr>\n",
       "      <th>8742</th>\n",
       "      <td>2020-05-14 09:09:41 UTC</td>\n",
       "      <td>2308774433587724743</td>\n",
       "      <td>1515966223509105377</td>\n",
       "      <td>2.268105e+18</td>\n",
       "      <td>electronics.smartphone</td>\n",
       "      <td>lg</td>\n",
       "      <td>1.515916e+18</td>\n",
       "      <td>9606.48</td>\n",
       "    </tr>\n",
       "  </tbody>\n",
       "</table>\n",
       "</div>"
      ],
      "text/plain": [
       "                      event_time             order_id           product_id  \\\n",
       "1144303  2020-05-26 08:12:38 UTC  2353234364520727464  1515966223509105016   \n",
       "28182    2020-06-25 10:08:37 UTC  2339244674033647628  1515966223509131884   \n",
       "28623    2020-06-26 09:10:44 UTC  2339940319191106553  1515966223509566954   \n",
       "1153319  2020-05-27 06:37:30 UTC  2353235498996073224  2273948305316643078   \n",
       "1627981  2020-07-03 11:59:01 UTC  2353288509000777918  2273948305316643078   \n",
       "2270999  2020-09-16 06:46:10 UTC  2388440981134484484  1515966223520801280   \n",
       "8742     2020-05-14 09:09:41 UTC  2308774433587724743  1515966223509105377   \n",
       "\n",
       "          category_id           category_code    brand       user_id  price_ch  \n",
       "1144303  2.374499e+18    electronics.video.tv  samsung           NaN  50925.90  \n",
       "28182    2.374499e+18    electronics.video.tv      NaN  1.515916e+18  18328.68  \n",
       "28623    2.374499e+18    electronics.video.tv      NaN  1.515916e+18  13310.16  \n",
       "1153319  2.268105e+18    electronics.video.tv       lg           NaN  11574.05  \n",
       "1627981  2.268105e+18    electronics.video.tv       lg  1.515916e+18  11574.05  \n",
       "2270999  2.374499e+18    electronics.video.tv  samsung  1.515916e+18  10416.64  \n",
       "8742     2.268105e+18  electronics.smartphone       lg  1.515916e+18   9606.48  "
      ]
     },
     "execution_count": 56,
     "metadata": {},
     "output_type": "execute_result"
    }
   ],
   "source": [
    "data.drop_duplicates(subset=['product_id'])\n",
    "(data.sort_values('price_ch', ascending=False)).head(7)"
   ]
  },
  {
   "cell_type": "code",
   "execution_count": 10,
   "metadata": {},
   "outputs": [
    {
     "data": {
      "text/html": [
       "<div>\n",
       "<style scoped>\n",
       "    .dataframe tbody tr th:only-of-type {\n",
       "        vertical-align: middle;\n",
       "    }\n",
       "\n",
       "    .dataframe tbody tr th {\n",
       "        vertical-align: top;\n",
       "    }\n",
       "\n",
       "    .dataframe thead th {\n",
       "        text-align: right;\n",
       "    }\n",
       "</style>\n",
       "<table border=\"1\" class=\"dataframe\">\n",
       "  <thead>\n",
       "    <tr style=\"text-align: right;\">\n",
       "      <th></th>\n",
       "      <th>event_time</th>\n",
       "      <th>order_id</th>\n",
       "      <th>product_id</th>\n",
       "      <th>category_id</th>\n",
       "      <th>category_code</th>\n",
       "      <th>brand</th>\n",
       "      <th>price</th>\n",
       "      <th>user_id</th>\n",
       "      <th>price_ch</th>\n",
       "    </tr>\n",
       "  </thead>\n",
       "  <tbody>\n",
       "    <tr>\n",
       "      <th>877360</th>\n",
       "      <td>2020-03-20 09:07:26 UTC</td>\n",
       "      <td>2348823338635232193</td>\n",
       "      <td>1515966223523303314</td>\n",
       "      <td>0.0</td>\n",
       "      <td>9.26</td>\n",
       "      <td>1515915625484674144</td>\n",
       "      <td>0.0</td>\n",
       "      <td>0.0</td>\n",
       "      <td>0.0</td>\n",
       "    </tr>\n",
       "    <tr>\n",
       "      <th>493382</th>\n",
       "      <td>2020-02-15 13:21:13 UTC</td>\n",
       "      <td>2348795511374348846</td>\n",
       "      <td>1515966223523303310</td>\n",
       "      <td>0.0</td>\n",
       "      <td>8.10</td>\n",
       "      <td>0</td>\n",
       "      <td>0.0</td>\n",
       "      <td>0.0</td>\n",
       "      <td>0.0</td>\n",
       "    </tr>\n",
       "    <tr>\n",
       "      <th>493380</th>\n",
       "      <td>2020-02-15 13:21:13 UTC</td>\n",
       "      <td>2348795511374348846</td>\n",
       "      <td>1515966223523303366</td>\n",
       "      <td>0.0</td>\n",
       "      <td>4.63</td>\n",
       "      <td>0</td>\n",
       "      <td>0.0</td>\n",
       "      <td>0.0</td>\n",
       "      <td>0.0</td>\n",
       "    </tr>\n",
       "    <tr>\n",
       "      <th>493378</th>\n",
       "      <td>2020-02-15 13:21:13 UTC</td>\n",
       "      <td>2348795511374348846</td>\n",
       "      <td>1515966223523303312</td>\n",
       "      <td>0.0</td>\n",
       "      <td>6.94</td>\n",
       "      <td>0</td>\n",
       "      <td>0.0</td>\n",
       "      <td>0.0</td>\n",
       "      <td>0.0</td>\n",
       "    </tr>\n",
       "    <tr>\n",
       "      <th>493377</th>\n",
       "      <td>2020-02-15 13:21:13 UTC</td>\n",
       "      <td>2348795511374348846</td>\n",
       "      <td>1515966223523303340</td>\n",
       "      <td>0.0</td>\n",
       "      <td>5.79</td>\n",
       "      <td>0</td>\n",
       "      <td>0.0</td>\n",
       "      <td>0.0</td>\n",
       "      <td>0.0</td>\n",
       "    </tr>\n",
       "    <tr>\n",
       "      <th>493376</th>\n",
       "      <td>2020-02-14 13:42:25 UTC</td>\n",
       "      <td>2348795510661317165</td>\n",
       "      <td>1515966223523303302</td>\n",
       "      <td>0.0</td>\n",
       "      <td>57.87</td>\n",
       "      <td>0</td>\n",
       "      <td>0.0</td>\n",
       "      <td>0.0</td>\n",
       "      <td>0.0</td>\n",
       "    </tr>\n",
       "    <tr>\n",
       "      <th>524287</th>\n",
       "      <td>2020-02-19 07:07:09 UTC</td>\n",
       "      <td>2348798111096243168</td>\n",
       "      <td>1515966223523303301</td>\n",
       "      <td>0.0</td>\n",
       "      <td>16.18</td>\n",
       "      <td>0</td>\n",
       "      <td>0.0</td>\n",
       "      <td>0.0</td>\n",
       "      <td>0.0</td>\n",
       "    </tr>\n",
       "  </tbody>\n",
       "</table>\n",
       "</div>"
      ],
      "text/plain": [
       "                     event_time             order_id           product_id  \\\n",
       "877360  2020-03-20 09:07:26 UTC  2348823338635232193  1515966223523303314   \n",
       "493382  2020-02-15 13:21:13 UTC  2348795511374348846  1515966223523303310   \n",
       "493380  2020-02-15 13:21:13 UTC  2348795511374348846  1515966223523303366   \n",
       "493378  2020-02-15 13:21:13 UTC  2348795511374348846  1515966223523303312   \n",
       "493377  2020-02-15 13:21:13 UTC  2348795511374348846  1515966223523303340   \n",
       "493376  2020-02-14 13:42:25 UTC  2348795510661317165  1515966223523303302   \n",
       "524287  2020-02-19 07:07:09 UTC  2348798111096243168  1515966223523303301   \n",
       "\n",
       "        category_id category_code                brand  price  user_id  \\\n",
       "877360          0.0          9.26  1515915625484674144    0.0      0.0   \n",
       "493382          0.0          8.10                    0    0.0      0.0   \n",
       "493380          0.0          4.63                    0    0.0      0.0   \n",
       "493378          0.0          6.94                    0    0.0      0.0   \n",
       "493377          0.0          5.79                    0    0.0      0.0   \n",
       "493376          0.0         57.87                    0    0.0      0.0   \n",
       "524287          0.0         16.18                    0    0.0      0.0   \n",
       "\n",
       "        price_ch  \n",
       "877360       0.0  \n",
       "493382       0.0  \n",
       "493380       0.0  \n",
       "493378       0.0  \n",
       "493377       0.0  \n",
       "493376       0.0  \n",
       "524287       0.0  "
      ]
     },
     "execution_count": 10,
     "metadata": {},
     "output_type": "execute_result"
    }
   ],
   "source": [
    "data.drop_duplicates(subset=['product_id'])\n",
    "(data.sort_values('price_ch', ascending=False)).tail(7)"
   ]
  },
  {
   "cell_type": "markdown",
   "metadata": {},
   "source": [
    "#### 6. Выведите информацию о том, сколько раз клиенты покупали больше 1 товара apple (brand)?"
   ]
  },
  {
   "cell_type": "code",
   "execution_count": 57,
   "metadata": {
    "scrolled": false
   },
   "outputs": [
    {
     "name": "stdout",
     "output_type": "stream",
     "text": [
      "23\n"
     ]
    }
   ],
   "source": [
    "#data[data['brand']=='apple'].value_counts().to_frame()\n",
    "df=data[data['brand']=='apple']\n",
    "#filter1 = df['brand'].isin(['apple'])\n",
    "#df[filter1]\n",
    "count = df[df.duplicated()]\n",
    "print(len(count['order_id'].unique()))"
   ]
  },
  {
   "cell_type": "markdown",
   "metadata": {},
   "source": [
    "#### 7. Выведите информацию о среднем чеке у заказа и сколько в среднем товаров покупают?\n",
    "\n",
    "Если необходимо провести вычисления в терминах заказов, то будет удобно сгруппировать строки по заказам и посчитать необходимые значения."
   ]
  },
  {
   "cell_type": "code",
   "execution_count": 61,
   "metadata": {},
   "outputs": [
    {
     "data": {
      "text/plain": [
       "236"
      ]
     },
     "execution_count": 61,
     "metadata": {},
     "output_type": "execute_result"
    }
   ],
   "source": [
    "round(data.groupby('order_id')['price_ch'].sum().mean())"
   ]
  },
  {
   "cell_type": "code",
   "execution_count": 62,
   "metadata": {},
   "outputs": [
    {
     "data": {
      "text/plain": [
       "2"
      ]
     },
     "execution_count": 62,
     "metadata": {},
     "output_type": "execute_result"
    }
   ],
   "source": [
    "round(data.groupby('order_id')['price_ch'].count().mean())"
   ]
  },
  {
   "cell_type": "markdown",
   "metadata": {},
   "source": [
    "#### 8. Выведите количество заказов с 1 товаром."
   ]
  },
  {
   "cell_type": "code",
   "execution_count": null,
   "metadata": {},
   "outputs": [],
   "source": []
  },
  {
   "cell_type": "markdown",
   "metadata": {},
   "source": [
    "#### 9. Выведите самую популярную категорию товара."
   ]
  },
  {
   "cell_type": "code",
   "execution_count": 63,
   "metadata": {},
   "outputs": [
    {
     "data": {
      "text/plain": [
       "0    \n",
       "dtype: object"
      ]
     },
     "execution_count": 63,
     "metadata": {},
     "output_type": "execute_result"
    }
   ],
   "source": [
    "data['category_code'].mode()"
   ]
  },
  {
   "cell_type": "markdown",
   "metadata": {},
   "source": [
    "#### 10. Выведите виды товаров Apple. Какой из них чаще всего покупают? Какой из них самый дорогой? "
   ]
  },
  {
   "cell_type": "code",
   "execution_count": 64,
   "metadata": {},
   "outputs": [
    {
     "name": "stdout",
     "output_type": "stream",
     "text": [
      "6               electronics.smartphone\n",
      "34         electronics.audio.headphone\n",
      "36                  electronics.clocks\n",
      "162                                   \n",
      "303                 computers.notebook\n",
      "439                 electronics.tablet\n",
      "687           construction.tools.screw\n",
      "1283          computers.components.hdd\n",
      "4737                 computers.desktop\n",
      "6721    computers.peripherals.keyboard\n",
      "6725       computers.peripherals.mouse\n",
      "9544       computers.components.cooler\n",
      "Name: category_code, dtype: object\n",
      "0    electronics.smartphone\n",
      "dtype: object\n",
      "6018.5\n"
     ]
    }
   ],
   "source": [
    "filter1 = data['brand'].isin(['apple'])\n",
    "df10=data[filter1]\n",
    "data10=df10.drop_duplicates(subset='category_code')\n",
    "print(data10['category_code'])\n",
    "popular_Apple=df10['category_code'].mode()\n",
    "print(popular_Apple)\n",
    "expensive=df10['price_ch'].max()\n",
    "print(expensive)"
   ]
  },
  {
   "cell_type": "markdown",
   "metadata": {
    "collapsed": true
   },
   "source": [
    "#### 11. В каком количестве заказов есть товар, который стоит более 40% от суммы всего чека?\n",
    "\n",
    "Возможно, будет удобно посчитать отдельно средний чек, добавить его в исходные данные и сделать необходимые проверки."
   ]
  },
  {
   "cell_type": "code",
   "execution_count": 69,
   "metadata": {},
   "outputs": [],
   "source": [
    "tmp = data.groupby('order_id')['price_ch'].sum()*0.4   #не готово\n",
    "d11 = pandas.merge(data,tmp,on ='order_id')\n",
    "#len(d11[d11['price']>d11['price_ch']]['order_id'].unique())"
   ]
  },
  {
   "cell_type": "markdown",
   "metadata": {},
   "source": [
    "#### 12. Предположим, что в данных была ошибка и товар с product_id 1515966223509089906, который стоил 162.01, должен был стоить 170,02. Скорректируйте данные в таблицы и посчитайте, на какой процент больше денег было заработано с этого товара. Не забывайте, что количество товара не всегда равно 1."
   ]
  },
  {
   "cell_type": "code",
   "execution_count": 71,
   "metadata": {},
   "outputs": [
    {
     "name": "stdout",
     "output_type": "stream",
     "text": [
      "4.9441392506635395\n"
     ]
    },
    {
     "name": "stderr",
     "output_type": "stream",
     "text": [
      "C:\\Users\\Renat\\anaconda3\\lib\\site-packages\\pandas\\core\\indexing.py:1765: SettingWithCopyWarning: \n",
      "A value is trying to be set on a copy of a slice from a DataFrame.\n",
      "Try using .loc[row_indexer,col_indexer] = value instead\n",
      "\n",
      "See the caveats in the documentation: https://pandas.pydata.org/pandas-docs/stable/user_guide/indexing.html#returning-a-view-versus-a-copy\n",
      "  isetter(loc, value)\n"
     ]
    },
    {
     "data": {
      "text/html": [
       "<div>\n",
       "<style scoped>\n",
       "    .dataframe tbody tr th:only-of-type {\n",
       "        vertical-align: middle;\n",
       "    }\n",
       "\n",
       "    .dataframe tbody tr th {\n",
       "        vertical-align: top;\n",
       "    }\n",
       "\n",
       "    .dataframe thead th {\n",
       "        text-align: right;\n",
       "    }\n",
       "</style>\n",
       "<table border=\"1\" class=\"dataframe\">\n",
       "  <thead>\n",
       "    <tr style=\"text-align: right;\">\n",
       "      <th></th>\n",
       "      <th>event_time</th>\n",
       "      <th>order_id</th>\n",
       "      <th>product_id</th>\n",
       "      <th>category_id</th>\n",
       "      <th>category_code</th>\n",
       "      <th>brand</th>\n",
       "      <th>user_id</th>\n",
       "      <th>price_ch</th>\n",
       "    </tr>\n",
       "  </thead>\n",
       "  <tbody>\n",
       "    <tr>\n",
       "      <th>0</th>\n",
       "      <td>2020-04-24 11:50:39 UTC</td>\n",
       "      <td>2294359932054536986</td>\n",
       "      <td>1515966223509089906</td>\n",
       "      <td>2.268105e+18</td>\n",
       "      <td>electronics.tablet</td>\n",
       "      <td>samsung</td>\n",
       "      <td>1.515916e+18</td>\n",
       "      <td>170.02</td>\n",
       "    </tr>\n",
       "    <tr>\n",
       "      <th>1</th>\n",
       "      <td>2020-04-24 11:50:39 UTC</td>\n",
       "      <td>2294359932054536986</td>\n",
       "      <td>1515966223509089906</td>\n",
       "      <td>2.268105e+18</td>\n",
       "      <td>electronics.tablet</td>\n",
       "      <td>samsung</td>\n",
       "      <td>1.515916e+18</td>\n",
       "      <td>170.02</td>\n",
       "    </tr>\n",
       "    <tr>\n",
       "      <th>6123</th>\n",
       "      <td>2020-05-10 12:33:12 UTC</td>\n",
       "      <td>2305977760524272239</td>\n",
       "      <td>1515966223509089906</td>\n",
       "      <td>2.268105e+18</td>\n",
       "      <td>electronics.tablet</td>\n",
       "      <td>samsung</td>\n",
       "      <td>1.515916e+18</td>\n",
       "      <td>170.02</td>\n",
       "    </tr>\n",
       "    <tr>\n",
       "      <th>9556</th>\n",
       "      <td>2020-05-16 07:58:26 UTC</td>\n",
       "      <td>2310188121796378674</td>\n",
       "      <td>1515966223509089906</td>\n",
       "      <td>2.268105e+18</td>\n",
       "      <td>electronics.tablet</td>\n",
       "      <td>samsung</td>\n",
       "      <td>1.515916e+18</td>\n",
       "      <td>170.02</td>\n",
       "    </tr>\n",
       "    <tr>\n",
       "      <th>10225</th>\n",
       "      <td>2020-05-17 15:00:08 UTC</td>\n",
       "      <td>2311125144107484149</td>\n",
       "      <td>1515966223509089906</td>\n",
       "      <td>2.268105e+18</td>\n",
       "      <td>electronics.tablet</td>\n",
       "      <td>samsung</td>\n",
       "      <td>1.515916e+18</td>\n",
       "      <td>170.02</td>\n",
       "    </tr>\n",
       "    <tr>\n",
       "      <th>...</th>\n",
       "      <td>...</td>\n",
       "      <td>...</td>\n",
       "      <td>...</td>\n",
       "      <td>...</td>\n",
       "      <td>...</td>\n",
       "      <td>...</td>\n",
       "      <td>...</td>\n",
       "      <td>...</td>\n",
       "    </tr>\n",
       "    <tr>\n",
       "      <th>2604076</th>\n",
       "      <td>2020-11-14 09:36:15 UTC</td>\n",
       "      <td>2388440981134677150</td>\n",
       "      <td>1515966223509089906</td>\n",
       "      <td>2.268105e+18</td>\n",
       "      <td>electronics.tablet</td>\n",
       "      <td>samsung</td>\n",
       "      <td>1.515916e+18</td>\n",
       "      <td>170.02</td>\n",
       "    </tr>\n",
       "    <tr>\n",
       "      <th>2611374</th>\n",
       "      <td>2020-11-14 11:48:43 UTC</td>\n",
       "      <td>2388440981134680889</td>\n",
       "      <td>1515966223509089906</td>\n",
       "      <td>2.268105e+18</td>\n",
       "      <td>electronics.tablet</td>\n",
       "      <td>samsung</td>\n",
       "      <td>1.515916e+18</td>\n",
       "      <td>170.02</td>\n",
       "    </tr>\n",
       "    <tr>\n",
       "      <th>2615842</th>\n",
       "      <td>2020-11-18 09:31:13 UTC</td>\n",
       "      <td>2388440981134683904</td>\n",
       "      <td>1515966223509089906</td>\n",
       "      <td>2.268105e+18</td>\n",
       "      <td>electronics.tablet</td>\n",
       "      <td>samsung</td>\n",
       "      <td>1.515916e+18</td>\n",
       "      <td>170.02</td>\n",
       "    </tr>\n",
       "    <tr>\n",
       "      <th>2619162</th>\n",
       "      <td>2020-11-18 12:18:52 UTC</td>\n",
       "      <td>2388440981134685713</td>\n",
       "      <td>1515966223509089906</td>\n",
       "      <td>2.268105e+18</td>\n",
       "      <td>electronics.tablet</td>\n",
       "      <td>samsung</td>\n",
       "      <td>1.515916e+18</td>\n",
       "      <td>170.02</td>\n",
       "    </tr>\n",
       "    <tr>\n",
       "      <th>2625836</th>\n",
       "      <td>2020-11-19 09:43:36 UTC</td>\n",
       "      <td>2388440981134689515</td>\n",
       "      <td>1515966223509089906</td>\n",
       "      <td>2.268105e+18</td>\n",
       "      <td>electronics.tablet</td>\n",
       "      <td>samsung</td>\n",
       "      <td>1.515916e+18</td>\n",
       "      <td>170.02</td>\n",
       "    </tr>\n",
       "  </tbody>\n",
       "</table>\n",
       "<p>884 rows × 8 columns</p>\n",
       "</div>"
      ],
      "text/plain": [
       "                      event_time             order_id           product_id  \\\n",
       "0        2020-04-24 11:50:39 UTC  2294359932054536986  1515966223509089906   \n",
       "1        2020-04-24 11:50:39 UTC  2294359932054536986  1515966223509089906   \n",
       "6123     2020-05-10 12:33:12 UTC  2305977760524272239  1515966223509089906   \n",
       "9556     2020-05-16 07:58:26 UTC  2310188121796378674  1515966223509089906   \n",
       "10225    2020-05-17 15:00:08 UTC  2311125144107484149  1515966223509089906   \n",
       "...                          ...                  ...                  ...   \n",
       "2604076  2020-11-14 09:36:15 UTC  2388440981134677150  1515966223509089906   \n",
       "2611374  2020-11-14 11:48:43 UTC  2388440981134680889  1515966223509089906   \n",
       "2615842  2020-11-18 09:31:13 UTC  2388440981134683904  1515966223509089906   \n",
       "2619162  2020-11-18 12:18:52 UTC  2388440981134685713  1515966223509089906   \n",
       "2625836  2020-11-19 09:43:36 UTC  2388440981134689515  1515966223509089906   \n",
       "\n",
       "          category_id       category_code    brand       user_id  price_ch  \n",
       "0        2.268105e+18  electronics.tablet  samsung  1.515916e+18    170.02  \n",
       "1        2.268105e+18  electronics.tablet  samsung  1.515916e+18    170.02  \n",
       "6123     2.268105e+18  electronics.tablet  samsung  1.515916e+18    170.02  \n",
       "9556     2.268105e+18  electronics.tablet  samsung  1.515916e+18    170.02  \n",
       "10225    2.268105e+18  electronics.tablet  samsung  1.515916e+18    170.02  \n",
       "...               ...                 ...      ...           ...       ...  \n",
       "2604076  2.268105e+18  electronics.tablet  samsung  1.515916e+18    170.02  \n",
       "2611374  2.268105e+18  electronics.tablet  samsung  1.515916e+18    170.02  \n",
       "2615842  2.268105e+18  electronics.tablet  samsung  1.515916e+18    170.02  \n",
       "2619162  2.268105e+18  electronics.tablet  samsung  1.515916e+18    170.02  \n",
       "2625836  2.268105e+18  electronics.tablet  samsung  1.515916e+18    170.02  \n",
       "\n",
       "[884 rows x 8 columns]"
      ]
     },
     "execution_count": 71,
     "metadata": {},
     "output_type": "execute_result"
    }
   ],
   "source": [
    "filter2 = data['product_id'].isin(['1515966223509089906'])\n",
    "df12=data[filter2]\n",
    "sum1=df12['price_ch'].sum()\n",
    "df12.loc[(df12.price_ch!=170.02), 'price_ch']=170.02\n",
    "sum2=df12['price_ch'].sum()\n",
    "result=sum2*100/sum1-100\n",
    "print(result)\n",
    "df12"
   ]
  },
  {
   "cell_type": "markdown",
   "metadata": {},
   "source": [
    "#### 13. Создайте новый DateFrame из матрицы, созданной ниже. Назовите колонки index, column1, column2 и сделайте первую колонку индексом."
   ]
  },
  {
   "cell_type": "code",
   "execution_count": 72,
   "metadata": {},
   "outputs": [
    {
     "data": {
      "text/html": [
       "<div>\n",
       "<style scoped>\n",
       "    .dataframe tbody tr th:only-of-type {\n",
       "        vertical-align: middle;\n",
       "    }\n",
       "\n",
       "    .dataframe tbody tr th {\n",
       "        vertical-align: top;\n",
       "    }\n",
       "\n",
       "    .dataframe thead th {\n",
       "        text-align: right;\n",
       "    }\n",
       "</style>\n",
       "<table border=\"1\" class=\"dataframe\">\n",
       "  <thead>\n",
       "    <tr style=\"text-align: right;\">\n",
       "      <th></th>\n",
       "      <th>Column1</th>\n",
       "      <th>Column2</th>\n",
       "    </tr>\n",
       "  </thead>\n",
       "  <tbody>\n",
       "    <tr>\n",
       "      <th>0.786239</th>\n",
       "      <td>0.912361</td>\n",
       "      <td>0.563931</td>\n",
       "    </tr>\n",
       "    <tr>\n",
       "      <th>0.053793</th>\n",
       "      <td>0.071472</td>\n",
       "      <td>0.765194</td>\n",
       "    </tr>\n",
       "    <tr>\n",
       "      <th>0.258173</th>\n",
       "      <td>0.771474</td>\n",
       "      <td>0.869065</td>\n",
       "    </tr>\n",
       "    <tr>\n",
       "      <th>0.258739</th>\n",
       "      <td>0.395341</td>\n",
       "      <td>0.811418</td>\n",
       "    </tr>\n",
       "    <tr>\n",
       "      <th>0.346197</th>\n",
       "      <td>0.397667</td>\n",
       "      <td>0.875763</td>\n",
       "    </tr>\n",
       "    <tr>\n",
       "      <th>0.874178</th>\n",
       "      <td>0.115337</td>\n",
       "      <td>0.140624</td>\n",
       "    </tr>\n",
       "    <tr>\n",
       "      <th>0.352316</th>\n",
       "      <td>0.317570</td>\n",
       "      <td>0.002299</td>\n",
       "    </tr>\n",
       "    <tr>\n",
       "      <th>0.288186</th>\n",
       "      <td>0.696783</td>\n",
       "      <td>0.234590</td>\n",
       "    </tr>\n",
       "    <tr>\n",
       "      <th>0.908774</th>\n",
       "      <td>0.309165</td>\n",
       "      <td>0.266728</td>\n",
       "    </tr>\n",
       "    <tr>\n",
       "      <th>0.241616</th>\n",
       "      <td>0.689895</td>\n",
       "      <td>0.677852</td>\n",
       "    </tr>\n",
       "  </tbody>\n",
       "</table>\n",
       "</div>"
      ],
      "text/plain": [
       "           Column1   Column2\n",
       "0.786239  0.912361  0.563931\n",
       "0.053793  0.071472  0.765194\n",
       "0.258173  0.771474  0.869065\n",
       "0.258739  0.395341  0.811418\n",
       "0.346197  0.397667  0.875763\n",
       "0.874178  0.115337  0.140624\n",
       "0.352316  0.317570  0.002299\n",
       "0.288186  0.696783  0.234590\n",
       "0.908774  0.309165  0.266728\n",
       "0.241616  0.689895  0.677852"
      ]
     },
     "execution_count": 72,
     "metadata": {},
     "output_type": "execute_result"
    }
   ],
   "source": [
    "import numpy as np\n",
    "df = np.random.rand(10, 3)\n",
    "\n",
    "df = pandas.DataFrame(df[:,1:],columns=['Column1','Column2'],index = df[:,0])\n",
    "df"
   ]
  },
  {
   "cell_type": "markdown",
   "metadata": {},
   "source": [
    "Сохраните DataFrame локально в формате csv без индексов и названий столбцов."
   ]
  },
  {
   "cell_type": "code",
   "execution_count": 19,
   "metadata": {},
   "outputs": [],
   "source": [
    "data.to_csv('DM.csv', header=False, index=False)"
   ]
  },
  {
   "cell_type": "markdown",
   "metadata": {},
   "source": [
    "## 2. Визуализации и matplotlib"
   ]
  },
  {
   "cell_type": "markdown",
   "metadata": {},
   "source": [
    "Библиотека matplotlib - это бибилиотека двумерной графики для языка программирования python с помощью которой можно создавать высококачественные рисунки различных форматов. Matplotlib представляет собой модуль-пакет для python.\n",
    "Matplotlib cостоит из множества модулей. Модули наполнены различными классами и функциями, которые иерархически связаны между собой."
   ]
  },
  {
   "cell_type": "code",
   "execution_count": 20,
   "metadata": {},
   "outputs": [
    {
     "name": "stderr",
     "output_type": "stream",
     "text": [
      "UsageError: unrecognized arguments: # нужно для отображения графиков внутри ноутбука\n"
     ]
    }
   ],
   "source": [
    "%matplotlib inline  # нужно для отображения графиков внутри ноутбука\n",
    "import matplotlib.pyplot as plt"
   ]
  },
  {
   "cell_type": "markdown",
   "metadata": {},
   "source": [
    "На самом деле мы уже импортировали matplotlib внутри %pylab inline в начале задания.\n",
    "\n",
    "Работать мы будем с той же выборкой покупкок. Добавим новую колонку с датой покупки."
   ]
  },
  {
   "cell_type": "code",
   "execution_count": null,
   "metadata": {},
   "outputs": [],
   "source": [
    "import datetime\n",
    "import random\n",
    "\n",
    "start = datetime.datetime(2018, 1, 1)\n",
    "end = datetime.datetime(2018, 1, 31)\n",
    "delta_seconds = int((end - start).total_seconds())\n",
    "\n",
    "dates = pandas.DataFrame(index=data.order_id.unique())\n",
    "dates['date'] = [(start + datetime.timedelta(seconds=random.randint(0, delta_seconds))).strftime('%Y-%m-%d')\n",
    "                 for _ in range(data.order_id.nunique())]\n",
    "\n",
    "# если DataFrame с покупками из прошлого заказа называется не df, замените на ваше название ниже\n",
    "data['date'] = data.order_id.map(dates['date'])\n",
    "data"
   ]
  },
  {
   "cell_type": "markdown",
   "metadata": {},
   "source": [
    "#### 1. Постройте гистограмму распределения сумм покупок и гистограмму средних цен отдельных видов продуктов product_id. \n",
    "\n",
    "Изображайте на двух соседних графиках. Для используйте subplot."
   ]
  },
  {
   "cell_type": "code",
   "execution_count": null,
   "metadata": {},
   "outputs": [],
   "source": [
    "# your code"
   ]
  },
  {
   "cell_type": "markdown",
   "metadata": {},
   "source": [
    "#### 2. Постройте график зависимости суммы покупок от дней."
   ]
  },
  {
   "cell_type": "code",
   "execution_count": null,
   "metadata": {},
   "outputs": [],
   "source": [
    "# your code"
   ]
  },
  {
   "cell_type": "markdown",
   "metadata": {},
   "source": [
    "#### 3. Постройте средних сумм покупок по дням недели (bar plot)."
   ]
  },
  {
   "cell_type": "code",
   "execution_count": null,
   "metadata": {},
   "outputs": [],
   "source": [
    "# your code"
   ]
  },
  {
   "cell_type": "markdown",
   "metadata": {},
   "source": [
    "#### 4. Постройте график зависимости денег за товар от купленного количества (scatter plot)."
   ]
  },
  {
   "cell_type": "code",
   "execution_count": null,
   "metadata": {},
   "outputs": [],
   "source": [
    "# your code"
   ]
  },
  {
   "cell_type": "markdown",
   "metadata": {},
   "source": [
    "Сохраните график в формате pdf (так он останется векторизованным)."
   ]
  },
  {
   "cell_type": "code",
   "execution_count": null,
   "metadata": {},
   "outputs": [],
   "source": [
    "# your code"
   ]
  },
  {
   "cell_type": "markdown",
   "metadata": {},
   "source": [
    "Кстати, существует надстройка над matplotlib под названием [seaborn](https://jakevdp.github.io/PythonDataScienceHandbook/04.14-visualization-with-seaborn.html). Иногда удобнее и красивее делать визуализации через неё. "
   ]
  }
 ],
 "metadata": {
  "kernel_info": {
   "name": "py36"
  },
  "kernelspec": {
   "display_name": "Python 3",
   "language": "python",
   "name": "python3"
  },
  "language_info": {
   "codemirror_mode": {
    "name": "ipython",
    "version": 3
   },
   "file_extension": ".py",
   "mimetype": "text/x-python",
   "name": "python",
   "nbconvert_exporter": "python",
   "pygments_lexer": "ipython3",
   "version": "3.8.5"
  },
  "nteract": {
   "version": "0.11.6"
  }
 },
 "nbformat": 4,
 "nbformat_minor": 2
}
